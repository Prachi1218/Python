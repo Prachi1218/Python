{
  "nbformat": 4,
  "nbformat_minor": 0,
  "metadata": {
    "colab": {
      "provenance": []
    },
    "kernelspec": {
      "name": "python3",
      "display_name": "Python 3"
    },
    "language_info": {
      "name": "python"
    }
  },
  "cells": [
    {
      "cell_type": "markdown",
      "source": [
        "## **Python** -\n",
        "Python is a high-level, interpreted programming language known for its simplicity, readability, and versatility. It is widely used in various fields, including data analysis, artificial intelligence, machine learning, and automation."
      ],
      "metadata": {
        "id": "GfcwNu2AC-pG"
      }
    },
    {
      "cell_type": "markdown",
      "source": [
        "# **Why Learn Python?**\n",
        "* Python is case-sensitive language.\n",
        "* Python is expressive language.\n",
        "* Python support cross-platform.\n",
        "* Python free and open source\n",
        "\n",
        "\n",
        "\n",
        "\n",
        "\n",
        "\n"
      ],
      "metadata": {
        "id": "TL1sbcr1DVpu"
      }
    },
    {
      "cell_type": "markdown",
      "source": [
        "The print statement (or function) is used to display output to the console or terminal.\n",
        "The print() function takes one or more arguments and displays them as output."
      ],
      "metadata": {
        "id": "SJ4TSHWpEE0T"
      }
    },
    {
      "cell_type": "code",
      "source": [
        "print(\"Hello\")\n",
        "print(\"I'm a Data Scientist.\")"
      ],
      "metadata": {
        "colab": {
          "base_uri": "https://localhost:8080/"
        },
        "id": "5qarCzNeEoXp",
        "outputId": "96675d86-e38b-4540-8c00-f715d2a326d4"
      },
      "execution_count": 1,
      "outputs": [
        {
          "output_type": "stream",
          "name": "stdout",
          "text": [
            "Hello\n",
            "I'm a Data Scientist.\n"
          ]
        }
      ]
    },
    {
      "cell_type": "markdown",
      "source": [
        "## **Variable:-**\n",
        "A variable use to hold value or data which is used in programming.\n",
        "Variables allow you to label and manipulate data in your program. Think of a variable as a container for storing information that can be accessed or modified later."
      ],
      "metadata": {
        "id": "26GqBYmiE_gS"
      }
    },
    {
      "cell_type": "code",
      "source": [
        "# 1. Integer (int):- An integer is a whole number, positive or negative, without a decimal point.\n",
        "a=10\n",
        "print(a,type(a))\n",
        "\n",
        "# 2. Float (float):- A float is a number that has a decimal point.\n",
        "b=10.5\n",
        "print(b,type(b))\n",
        "\n",
        "# 3. Tuple (tuple):- A tuple is an ordered, immutable (unchangeable) collection of items.\n",
        "tup=(9,18,18,1)\n",
        "print(tup,type(tup))\n",
        "\n",
        "# 4. List (list):- A list is an ordered, mutable (changeable) collection of items.\n",
        "lst=[9,18,18,1]\n",
        "print(lst,type(lst))\n",
        "\n",
        "# 5. Dictionary (dict):- A dictionary is an unordered collection of key-value pairs.\n",
        "dict={\"name\":\"Prachi\",\"age\":25}\n",
        "print(dict,type(dict))\n",
        "\n",
        "# 6. Set :- A set is an unordered collection of unique elements.\n",
        "set={9,18,18,1}\n",
        "print(set,type(set))\n",
        "\n",
        "# 7. String (str):- A string is a sequence of characters.\n",
        "str=\"Thank You\"\n",
        "print(str,type(str))\n",
        "\n",
        "# 8. Complex (complex):-A complex number consists of a real part and an imaginary part.\n",
        "complex=2+3j\n",
        "print(complex,type(complex))"
      ],
      "metadata": {
        "colab": {
          "base_uri": "https://localhost:8080/"
        },
        "id": "UJJWm2khGMU7",
        "outputId": "0a51c035-51b3-4387-bde9-4be8787c4496"
      },
      "execution_count": 2,
      "outputs": [
        {
          "output_type": "stream",
          "name": "stdout",
          "text": [
            "10 <class 'int'>\n",
            "10.5 <class 'float'>\n",
            "(9, 18, 18, 1) <class 'tuple'>\n",
            "[9, 18, 18, 1] <class 'list'>\n",
            "{'name': 'Prachi', 'age': 25} <class 'dict'>\n",
            "{9, 18, 1} <class 'set'>\n",
            "Thank You <class 'str'>\n",
            "(2+3j) <class 'complex'>\n"
          ]
        }
      ]
    },
    {
      "cell_type": "markdown",
      "source": [
        "# **Boolean Variables:-**\n",
        "A Boolean variable is a type of variable that can hold one of two possible values: True or False. These values are the building blocks for logical and conditional operations in Python. Boolean variables are particularly useful in control flow statements like if, while, and logical expressions."
      ],
      "metadata": {
        "id": "6z5uz_dzfIWy"
      }
    },
    {
      "cell_type": "markdown",
      "source": [
        "# **Operator**:-\n",
        "Operators are categorized into several groups based on the type of operation they perform."
      ],
      "metadata": {
        "id": "BTpxI4RFLIrY"
      }
    },
    {
      "cell_type": "markdown",
      "source": [
        "1. Arithmetic Operators"
      ],
      "metadata": {
        "id": "ruqERnQcLfhO"
      }
    },
    {
      "cell_type": "code",
      "source": [
        "# Addition :- The addition operator adds two values together.\n",
        "a= 2+3\n",
        "print(\"Addition of 2+3 is \", a)\n",
        "\n",
        "# Subtraction:- The subtraction operator subtracts the right-hand operand from the left-hand operand.\n",
        "b = 4-3\n",
        "print(\"Substraction of 4-3 is \" , b)\n",
        "\n",
        "# Multiplication:- The multiplication operator multiplies two values.\n",
        "c= 5*2\n",
        "print(\"Multiplication of 5*2 is \" , c)\n",
        "\n",
        "# Division:- The division operator divides the left-hand operand by the right-hand operand and returns a float.\n",
        "d = 8/2\n",
        "print(\"Division of 8/2 is \" , d)\n",
        "\n",
        "# Modulus (remainder):- The modulo operator returns the remainder of the division of the left-hand operand by the right-hand operand.\n",
        "e = 5%3\n",
        "print(\"Modulus of 5%3 is \" ,e)\n",
        "\n",
        "# Floor Division (quotient):- The floor division operator divides the left-hand operand by the right-hand operand and rounds down the result to the nearest whole number (integer).\n",
        "f=5//3\n",
        "print(\"Quotient of 5//3 is \" ,e)\n",
        "\n",
        "# Exponentiation:-The exponentiation operator raises the left-hand operand to the power of the right-hand operand\n",
        "g=5**2\n",
        "print(\"Exponentiation of 5**2 is \", g)"
      ],
      "metadata": {
        "colab": {
          "base_uri": "https://localhost:8080/"
        },
        "id": "0msi8jnfLj8A",
        "outputId": "0109a0e0-c425-4968-adb9-0293bbed819a"
      },
      "execution_count": 3,
      "outputs": [
        {
          "output_type": "stream",
          "name": "stdout",
          "text": [
            "Addition of 2+3 is  5\n",
            "Substraction of 4-3 is  1\n",
            "Multiplication of 5*2 is  10\n",
            "Division of 8/2 is  4.0\n",
            "Modulus of 5%3 is  2\n",
            "Quotient of 5//3 is  2\n",
            "Exponentiation of 5**2 is  25\n"
          ]
        }
      ]
    },
    {
      "cell_type": "markdown",
      "source": [
        "2. Comparison (Relational) Operators"
      ],
      "metadata": {
        "id": "5FWUdprqOMTt"
      }
    },
    {
      "cell_type": "code",
      "source": [
        "# Equal to(=):- The == operator checks if two values are equal to each other.\n",
        "a=5==7\n",
        "print(\"Is 5 is equal to 7 -\" , a)\n",
        "\n",
        "#2. Not equal to (!=):- The != operator checks if two values are not equal to each other.\n",
        "b=6!=8\n",
        "print(\"Is 6 is not equal to 8 - \" , b)\n",
        "\n",
        "#3. Greater than (>):- The > operator checks if the left-hand operand is greater than the right-hand operand.\n",
        "c=7>4\n",
        "print(\"Is 7 is greater than 4 -\" , c)\n",
        "\n",
        "# 4. Less than (<):- The < operator checks if the left-hand operand is less than the right-hand operand.\n",
        "d=6<8\n",
        "print(\"Is 6 is less than 8 -\", d)\n",
        "\n",
        "# 5. Greater than or equal to (>=):- The >= operator checks if the left-hand operand is greater than or equal to the right-hand operand.\n",
        "e=7>=4\n",
        "print(\"Is 7 is greater than or equal to 4 -\", e)\n",
        "\n",
        "#6. Less than or equal to (<=):- The <= operator checks if the left-hand operand is less than or equal to the right-hand operand.\n",
        "f=8<=5\n",
        "print(\"Is 8 is less than or equal to 5 -\", f)"
      ],
      "metadata": {
        "colab": {
          "base_uri": "https://localhost:8080/"
        },
        "id": "P2TuMk1lOOak",
        "outputId": "843bee5a-9bde-40c2-c19a-50c95af249e8"
      },
      "execution_count": 4,
      "outputs": [
        {
          "output_type": "stream",
          "name": "stdout",
          "text": [
            "Is 5 is equal to 7 - False\n",
            "Is 6 is not equal to 8 -  True\n",
            "Is 7 is greater than 4 - True\n",
            "Is 6 is less than 8 - True\n",
            "Is 7 is greater than or equal to 4 - True\n",
            "Is 8 is less than or equal to 5 - False\n"
          ]
        }
      ]
    },
    {
      "cell_type": "markdown",
      "source": [
        "3. Logical Operators"
      ],
      "metadata": {
        "id": "8q-4YhGpTLBT"
      }
    },
    {
      "cell_type": "code",
      "source": [
        "\n",
        "# 1. AND (and):-The and logical operator returns True if both operands are True, otherwise, it returns False.\n",
        "a=8\n",
        "b=6\n",
        "and_op = (a>5) and (b>5)\n",
        "print(\"And Operator:-\",and_op)\n",
        "\n",
        "# 2. OR (or):- The or logical operator returns True if at least one of the operands is True.\n",
        "or_op = (a>5) or (b>5)\n",
        "print(\"OR Operator:-\",or_op)\n",
        "\n",
        "# 3. NOT (not):- The not logical operator is a negation operator. It takes a single Boolean operand and returns the opposite value. If the operand is True, not returns False, and if the operand is False, not returns True.\n",
        "not_op = not(a>5)\n",
        "print(\"NOT Operator:-\",not_op)\n"
      ],
      "metadata": {
        "colab": {
          "base_uri": "https://localhost:8080/"
        },
        "id": "SbokKdU1TO_K",
        "outputId": "7a97c674-ae68-410b-fa1f-fb88f0f49f10"
      },
      "execution_count": 5,
      "outputs": [
        {
          "output_type": "stream",
          "name": "stdout",
          "text": [
            "And Operator:- True\n",
            "OR Operator:- True\n",
            "NOT Operator:- False\n"
          ]
        }
      ]
    },
    {
      "cell_type": "markdown",
      "source": [
        "4. Assignment Operators"
      ],
      "metadata": {
        "id": "I68XEV8reBeS"
      }
    },
    {
      "cell_type": "code",
      "source": [
        "# 1. Simple Assignment (=):- The simple assignment operator = is used to assign the value of an expression to a variable.\n",
        "a=8\n",
        "print(a)\n",
        "\n",
        "# 2. Add and Assign (+=):-The += operator adds the right operand to the left operand and then assigns the result to the left operand.\n",
        "b=6\n",
        "b+=5\n",
        "print(b)\n",
        "\n",
        "# 3. Subtract and Assign (-=):-The -= operator subtracts the right operand from the left operand and assigns the result to the left operand.\n",
        "c=15\n",
        "c-=5\n",
        "print(c)\n",
        "\n",
        "# 4. Multiply and Assign (*=):- The *= operator multiplies the left operand by the right operand and assigns the result to the left operand.\n",
        "d=3\n",
        "d*=2\n",
        "print(d)\n",
        "\n",
        "# 5. Divide and Assign (/=):-The /= operator divides the left operand by the right operand and assigns the result to the left operand.\n",
        "e=8\n",
        "e/=2\n",
        "print(e)\n",
        "\n",
        "# 6. Floor Divide and Assign (//=):-The //= operator divides the left operand by the right operand and assigns the result of the floor division to the left operand. Floor division rounds the result down to the nearest whole number.\n",
        "f=8\n",
        "f//=5\n",
        "print(f)\n",
        "\n",
        "# 7. Modulo and Assign (%=):-The %= operator calculates the remainder of dividing the left operand by the right operand and assigns the result to the left operand.\n",
        "g=9\n",
        "g%=3\n",
        "print(g)\n",
        "\n",
        "# 8. Exponentiation and Assign (**=):-The **= operator performs exponentiation (raising the left operand to the power of the right operand) and assigns the result to the left operand.\n",
        "h=5\n",
        "h**=3\n",
        "print(h)\n",
        "\n",
        "# 9. Bitwise AND and Assign (&=):-The &= operator performs a bitwise AND operation between the left operand and the right operand and assigns the result to the left operand.\n",
        "x = 5  # Binary: 101\n",
        "x &= 3  # Binary: 011\n",
        "print(x)  # Output: 1 (Binary: 001)\n",
        "\n",
        "# 10. Bitwise OR and Assign (|=):-The |= operator performs a bitwise OR operation between the left operand and the right operand and assigns the result to the left operand.\n",
        "x = 5  # Binary: 101\n",
        "x |= 3  # Binary: 011\n",
        "print(x)  # Output: 7 (Binary: 111)\n",
        "\n",
        "# 11. Bitwise XOR and Assign (^=):-The ^= operator performs a bitwise XOR operation between the left operand and the right operand and assigns the result to the left operand.\n",
        "x = 5  # Binary: 101\n",
        "x ^= 3  # Binary: 011\n",
        "print(x)  # Output: 6 (Binary: 110)\n",
        "\n",
        "# 12. Bitwise Left Shift and Assign (<<=):- The <<= operator performs a bitwise left shift operation on the left operand by the number of positions specified by the right operand and assigns the result to the left operand.\n",
        "x = 5  # Binary: 101\n",
        "x <<= 1  # Shift left by 1 position\n",
        "print(x)  # Output: 10 (Binary: 1010)\n",
        "\n",
        "# 13. Bitwise Right Shift and Assign (>>=):-The >>= operator performs a bitwise right shift operation on the left operand by the number of positions specified by the right operand and assigns the result to the left operand.\n",
        "x = 10  # Binary: 1010\n",
        "x >>= 1  # Shift right by 1 position\n",
        "print(x)  # Output: 5 (Binary: 101)\n",
        "\n",
        "\n",
        "\n",
        "\n"
      ],
      "metadata": {
        "colab": {
          "base_uri": "https://localhost:8080/"
        },
        "id": "HuITl4ZheFh4",
        "outputId": "fea7dd9d-0a60-4d30-cc63-11819584fa27"
      },
      "execution_count": 6,
      "outputs": [
        {
          "output_type": "stream",
          "name": "stdout",
          "text": [
            "8\n",
            "11\n",
            "10\n",
            "6\n",
            "4.0\n",
            "1\n",
            "0\n",
            "125\n",
            "1\n",
            "7\n",
            "6\n",
            "10\n",
            "5\n"
          ]
        }
      ]
    },
    {
      "cell_type": "markdown",
      "source": [
        "5. Membership Operators"
      ],
      "metadata": {
        "id": "JWXCY14ehH9K"
      }
    },
    {
      "cell_type": "code",
      "source": [
        "# 1. in Operator:-The in operator is used to check if a value or element exists in a sequence (such as a string, list, tuple, etc.). It returns True if the element is found in the sequence, and False if it is not.\n",
        "fruits = ['apple', 'banana', 'orange','Kiwi']\n",
        "result = 'orange' in fruits  # Checking if 'orange' is in the list\n",
        "print(result)\n",
        "\n",
        "# 2. not in Operator:-The not in operator is the opposite of the in operator. It checks if a value or element does not exist in a sequence. It returns True if the element is not in the sequence, and False if the element is found in the sequence.\n",
        "numbers = (1, 2, 3, 4)\n",
        "result = 5 not in numbers  # Checking if 5 is not in the tuple\n",
        "print(result)\n",
        "\n",
        "numbers = [1, 2, 3, 4, 5]\n",
        "if 3 in numbers:\n",
        "    print(\"3 is in the list!\")\n",
        "else:\n",
        "    print(\"3 is not in the list!\")\n"
      ],
      "metadata": {
        "colab": {
          "base_uri": "https://localhost:8080/"
        },
        "id": "lOUhX4s0hL6h",
        "outputId": "c19fd6ae-dfff-42bf-eadd-7d89880c7754"
      },
      "execution_count": 7,
      "outputs": [
        {
          "output_type": "stream",
          "name": "stdout",
          "text": [
            "True\n",
            "True\n",
            "3 is in the list!\n"
          ]
        }
      ]
    },
    {
      "cell_type": "markdown",
      "source": [
        "5. Bitwise Operators"
      ],
      "metadata": {
        "id": "X8OU7aGPiAe6"
      }
    },
    {
      "cell_type": "code",
      "source": [
        "# 1. Bitwise AND (&):-The & operator performs a bitwise AND operation. It compares the bits of two integers, and the result is 1 if both corresponding bits are 1, otherwise the result is 0.\n",
        "a=10\n",
        "b=5\n",
        "print(a&b)\n",
        "\n",
        "# 2. Bitwise OR (|):-The | operator performs a bitwise OR operation. It compares the bits of two integers, and the result is 1 if at least one of the bits is 1. Otherwise, the result is 0.\n",
        "print(a|b)\n",
        "\n",
        "# 3. Bitwise XOR (^):-The ^ operator performs a bitwise XOR (exclusive OR) operation. It compares the bits of two integers, and the result is 1 if the bits are different, and 0 if the bits are the same.\n",
        "print(a^b)\n",
        "\n",
        "# 4. Bitwise NOT (~):-The ~ operator performs a bitwise NOT operation, also known as the bitwise complement. It inverts the bits of the integer — turning 1s to 0s and 0s to 1s. It also changes the sign of the number by adding 1 and flipping the sign bit, which results in the negative representation.\n",
        "print(~a)\n",
        "\n",
        "# 5. Left Shift (<<):-The << operator performs a bitwise left shift operation. It shifts the bits of the left operand to the left by the number of positions specified by the right operand. Each left shift operation effectively multiplies the number by 2.\n",
        "print(a<<b)\n",
        "\n",
        "# 6. Right Shift (>>):-The >> operator performs a bitwise right shift operation. It shifts the bits of the left operand to the right by the number of positions specified by the right operand. Each right shift operation effectively divides the number by 2.\n",
        "print(a>>4)\n"
      ],
      "metadata": {
        "colab": {
          "base_uri": "https://localhost:8080/"
        },
        "id": "VNIvFJd3iDqy",
        "outputId": "ed6fec85-8a51-4e53-b1d1-35d8f9b4d260"
      },
      "execution_count": 8,
      "outputs": [
        {
          "output_type": "stream",
          "name": "stdout",
          "text": [
            "0\n",
            "15\n",
            "15\n",
            "-11\n",
            "320\n",
            "0\n"
          ]
        }
      ]
    },
    {
      "cell_type": "markdown",
      "source": [
        "6. Identity Operators"
      ],
      "metadata": {
        "id": "YiH1i34Q2BUK"
      }
    },
    {
      "cell_type": "code",
      "source": [
        "# 1. is Operator:-The is operator is used to test if two variables point to the same object in memory (i.e., whether they are identical).\n",
        "a = [1, 2, 3]\n",
        "b = a  # b refers to the same object as a\n",
        "c = [1, 2, 3]  # c is a new list with the same values as a\n",
        "\n",
        "print(a is b)  # Output: True (a and b point to the same object)\n",
        "print(a is c)  # Output: False (a and c point to different objects, even though their values are the same)\n",
        "\n",
        "\n",
        "\n",
        "# 2. is not Operator:-The is not operator is the opposite of the is operator. It is used to test if two variables do not refer to the same object in memory.\n",
        "a = [1, 2, 3]\n",
        "b = a  # b refers to the same object as a\n",
        "c = [1, 2, 3]  # c is a new list with the same values as a\n",
        "\n",
        "print(a is not b)  # Output: False (a and b point to the same object)\n",
        "print(a is not c)  # Output: True (a and c point to different objects)"
      ],
      "metadata": {
        "colab": {
          "base_uri": "https://localhost:8080/"
        },
        "id": "Ci3sI2YY2IHR",
        "outputId": "a34957ac-c83f-4fa7-f764-1a4dcdcb71ef"
      },
      "execution_count": 9,
      "outputs": [
        {
          "output_type": "stream",
          "name": "stdout",
          "text": [
            "True\n",
            "False\n",
            "False\n",
            "True\n"
          ]
        }
      ]
    }
  ]
}
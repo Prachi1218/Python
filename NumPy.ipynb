{
  "nbformat": 4,
  "nbformat_minor": 0,
  "metadata": {
    "colab": {
      "provenance": []
    },
    "kernelspec": {
      "name": "python3",
      "display_name": "Python 3"
    },
    "language_info": {
      "name": "python"
    }
  },
  "cells": [
    {
      "cell_type": "code",
      "execution_count": null,
      "metadata": {
        "id": "l1qqs8wcJhGg"
      },
      "outputs": [],
      "source": []
    },
    {
      "cell_type": "markdown",
      "source": [
        "# **Numpy**\n",
        "- Numpy stand for Numerical Python.\n",
        "- Numpy was created in 2005 by Travis Oliphant.\n",
        "- Numpy is the fundamental package for scientist computing in python.\n",
        "- Numpy is a python library that provides a multidimensional array object, various derived objects.\n",
        "\n",
        "# **Array**\n",
        "An array is a data structure that stores values of same data type. In python, this is the main difference between arrays and lists while python list can contain values corresponding to different data types, arrays in python can only contain values corresponding to same data type.\n",
        "\n",
        "# **Alias **\n",
        "In python alias are an alternate name for referring to the same thing.\n"
      ],
      "metadata": {
        "id": "wZJC7Hc9Keqr"
      }
    },
    {
      "cell_type": "code",
      "source": [
        "# Creating Numpy array - To create numpy array we use np.array()\n",
        "import numpy as np\n",
        "# 1D Array\n",
        "arr1 = np.array([1, 2, 3, 4])\n",
        "print(\"1D Array:\", arr1)\n",
        "\n",
        "# 2D Array\n",
        "arr2 = np.array([[1, 2, 3], [4, 5, 6]])\n",
        "print(\"2D Array:\\n\", arr2)\n",
        "\n",
        "# 3D Array\n",
        "arr3 = np.array([[[1, 2, 3], [4, 5, 6]], [[1, 2, 3], [4, 5, 6]]])\n",
        "print(\"3D Array:\\n\", arr3)\n",
        "\n",
        "# Higher dimensional array\n",
        "arrn =np.array([1, 2, 3, 4], ndmin=5)\n",
        "print(\"Higher dimensional array:\\n\", arrn)\n"
      ],
      "metadata": {
        "colab": {
          "base_uri": "https://localhost:8080/"
        },
        "id": "_jbJwQzNge1h",
        "outputId": "42dc113d-5627-4235-9b30-9b875e57909e"
      },
      "execution_count": 1,
      "outputs": [
        {
          "output_type": "stream",
          "name": "stdout",
          "text": [
            "1D Array: [1 2 3 4]\n",
            "2D Array:\n",
            " [[1 2 3]\n",
            " [4 5 6]]\n",
            "3D Array:\n",
            " [[[1 2 3]\n",
            "  [4 5 6]]\n",
            "\n",
            " [[1 2 3]\n",
            "  [4 5 6]]]\n",
            "Higher dimensional array:\n",
            " [[[[[1 2 3 4]]]]]\n"
          ]
        }
      ]
    },
    {
      "cell_type": "code",
      "source": [
        "# Properties of arrays :-\n",
        "\n",
        "# 1. Homogeneity - All elements in a NumPy array must be of the same data type (e.g., int, float, bool).\n",
        "import numpy as np\n",
        "arr = np.array([1, 2, 3])\n",
        "print(\"Data Type :\", arr.dtype)\n",
        "\n",
        "# 2. Shape - The shape of an array is a tuple that indicates the number of elements in each dimension (rows, columns, etc.).\n",
        "print(\"Shape of array :\",arr.shape)\n",
        "\n",
        "# 3. Size - The total number of elements in the array.\n",
        "print(\"Size of array :\",arr.size)\n",
        "\n",
        "# 4. Dimensionality - The number of dimensions of the array. A 1D array has a single axis, a 2D array has two axes (rows and columns), and so on.\n",
        "print(\"Dimensional of an array : \" ,arr1.ndim)\n",
        "print(\"Dimensional of an array :\",arr2.ndim)\n",
        "print(\"Dimensional of an array :\",arr3.ndim)\n",
        "\n",
        "# 5. Data Type (dtype) - Specifies the data type of the elements in the array. NumPy supports a variety of data types, such as int, float, bool, and complex.\n",
        "print(\"Data Type of an array :\",arr.dtype)\n",
        "\n",
        "# 6. Reshape - Reshape changes the structure of an array without altering the data.\n",
        "reshaped = arr2.reshape(3, 2)\n",
        "print(\"Reshaped array: \", reshaped)\n",
        "\n",
        "# 7. Transpose - Transpose flips the axes of the array.\n",
        "transposed = arr2.T\n",
        "print(\"Transposed: \", transposed)\n",
        "\n",
        "#8. Copy- A copy creates a new array with its own data.\n",
        "copy = arr.copy()\n",
        "copy[0]=25\n",
        "print(\"arr after copy modification:\", arr)\n",
        "\n",
        "# 9.View - A view is a new array object that refers to the same data as the original array.\n",
        "view = arr.view()\n",
        "view[0]=25\n",
        "print(\"arr after view modification:\", arr)\n",
        "\n",
        "\n"
      ],
      "metadata": {
        "colab": {
          "base_uri": "https://localhost:8080/"
        },
        "id": "mPPp8NdEibMX",
        "outputId": "4aef2b0b-344b-4156-d065-6bdfd58e92c5"
      },
      "execution_count": 2,
      "outputs": [
        {
          "output_type": "stream",
          "name": "stdout",
          "text": [
            "Data Type : int64\n",
            "Shape of array : (3,)\n",
            "Size of array : 3\n",
            "Dimensional of an array :  1\n",
            "Dimensional of an array : 2\n",
            "Dimensional of an array : 3\n",
            "Data Type of an array : int64\n",
            "Reshaped array:  [[1 2]\n",
            " [3 4]\n",
            " [5 6]]\n",
            "Transposed:  [[1 4]\n",
            " [2 5]\n",
            " [3 6]]\n",
            "arr after copy modification: [1 2 3]\n",
            "arr after view modification: [25  2  3]\n"
          ]
        }
      ]
    },
    {
      "cell_type": "markdown",
      "source": [
        "**Copy vs View**\n",
        "\n",
        "*Copy*\n",
        "- The copy owns the data\n",
        "- Any changes made to the copy will not affect original array\n",
        "- Any changes made to the original array will not affect the copy.\n",
        "\n",
        "*View*\n",
        "\n",
        "- The view does not own the data.\n",
        "- Any changes made to the view will affect the original array.\n",
        "- Any changes made to the original array will affect the view."
      ],
      "metadata": {
        "id": "avJpimR2yUiF"
      }
    },
    {
      "cell_type": "code",
      "source": [
        "# Special Numpy array\n",
        "#1. Zeros Array (numpy.zeros)- Creates an array filled with zeros. Useful for initializing arrays when the default value is zero.\n",
        "# 1D Array of Zeros\n",
        "import numpy as np\n",
        "ar_zero=np.zeros(4)\n",
        "print(\"1D Zeros Array:\",ar_zero)\n",
        "\n",
        "# 2D Array of Zeros\n",
        "ar_zero2=np.zeros((2,3))\n",
        "print(\"2D Zeros Array:\\n\",ar_zero2)\n",
        "\n",
        "# 2. Ones Array (numpy.ones) - Creates an array filled with ones. Often used for initialization when a value of one is required.\n",
        "# 1D Array of Ones\n",
        "ar_ones = np.ones(4)\n",
        "print(\"1D Ones Array:\", ar_ones)\n",
        "\n",
        "# 2D Array of Ones\n",
        "ar_ones2 = np.ones((3,2))\n",
        "print(\"2D Ones Array: \\n\", ar_ones2)\n",
        "\n",
        "# 3D Array of ones\n",
        "ar_ones3 = np.ones((2,3,4))\n",
        "print(\"3D Ones Array: \\n\", ar_ones3)\n",
        "\n",
        "# 3. Empty Array (numpy.empty) - Creates an uninitialized array of the specified shape and type.The array elements contain random values. Useful when performance is critical, and the array will be fully populated later.\n",
        "\n",
        "# 1D Array of Empty\n",
        "ar_empty = np.empty(4)\n",
        "print(\"1D Ones Array:\", ar_empty)\n",
        "\n",
        "# 2D Array of Empty\n",
        "ar_empty2 = np.empty((3,2))\n",
        "print(\"2D Ones Array: \\n\", ar_empty2)\n",
        "\n",
        "# 3D Array of Empty\n",
        "ar_empty3 = np.empty((2,3,4))\n",
        "print(\"3D Ones Array: \\n\", ar_empty3)\n",
        "\n",
        "# 4. Arange Array (numpy.arange)- Creates an array with evenly spaced values within a given range. Similar to Python’s range but returns a NumPy array.\n",
        "# Default Start, Step\n",
        "arange_default = np.arange(8)\n",
        "print(\"Arange Default:\", arange_default)\n",
        "\n",
        "# Specified Start, Stop, Step\n",
        "arange_custom = np.arange(1, 10, 2)\n",
        "print(\"Arange Custom:\", arange_custom)\n",
        "\n",
        "# 5. Identity Matrix (numpy.eye) - Creates a 2D square matrix with ones on the main diagonal and zeros elsewhere.Useful in linear algebra and matrix computations.\n",
        "# Square Identity Matrix\n",
        "identity = np.eye(4)\n",
        "print(\"Identity Matrix:\\n\", identity)\n",
        "\n",
        "# Rectangular Identity Matrix\n",
        "rectangular_identity = np.eye(3, 4)\n",
        "print(\"Rectangular Identity Matrix:\\n\", rectangular_identity)\n",
        "\n",
        "# Diagonal\n",
        "diag= np.eye(4, k=1)\n",
        "print(\"Diagonal:\\n\", diag)\n",
        "\n",
        "# linspace -The numpy.linspace function is used to create arrays with evenly spaced values between a specified start and stop value.\n",
        "# Generate 10 evenly spaced numbers between 0 and 1\n",
        "arr_lin = np.linspace(0, 1, 10)\n",
        "print(\"Linspace Array:\", arr_lin)\n",
        "\n",
        "# Generate 10 numbers between 0 and 1, excluding the endpoint\n",
        "arr_lin1 = np.linspace(0, 1, 10, endpoint=False)\n",
        "print(\"Linspace Array Without Endpoint:\", arr_lin1)\n",
        "\n",
        "# Generate 5 numbers between 0 and 10 and return the step size\n",
        "array, step = np.linspace(0, 10, 5, retstep=True)\n",
        "print(\"Array:\", array)\n",
        "print(\"Step Size:\", step)\n",
        "\n",
        "\n",
        "\n",
        "\n",
        "\n",
        "\n",
        "\n",
        "\n",
        "\n",
        "\n",
        "\n",
        "\n",
        "\n",
        "\n",
        "\n"
      ],
      "metadata": {
        "colab": {
          "base_uri": "https://localhost:8080/"
        },
        "id": "7qoJuT5DzhK0",
        "outputId": "d3094328-7989-410f-dfe9-842d67871a2c"
      },
      "execution_count": 3,
      "outputs": [
        {
          "output_type": "stream",
          "name": "stdout",
          "text": [
            "1D Zeros Array: [0. 0. 0. 0.]\n",
            "2D Zeros Array:\n",
            " [[0. 0. 0.]\n",
            " [0. 0. 0.]]\n",
            "1D Ones Array: [1. 1. 1. 1.]\n",
            "2D Ones Array: \n",
            " [[1. 1.]\n",
            " [1. 1.]\n",
            " [1. 1.]]\n",
            "3D Ones Array: \n",
            " [[[1. 1. 1. 1.]\n",
            "  [1. 1. 1. 1.]\n",
            "  [1. 1. 1. 1.]]\n",
            "\n",
            " [[1. 1. 1. 1.]\n",
            "  [1. 1. 1. 1.]\n",
            "  [1. 1. 1. 1.]]]\n",
            "1D Ones Array: [1. 1. 1. 1.]\n",
            "2D Ones Array: \n",
            " [[1. 1.]\n",
            " [1. 1.]\n",
            " [1. 1.]]\n",
            "3D Ones Array: \n",
            " [[[1. 1. 1. 1.]\n",
            "  [1. 1. 1. 1.]\n",
            "  [1. 1. 1. 1.]]\n",
            "\n",
            " [[1. 1. 1. 1.]\n",
            "  [1. 1. 1. 1.]\n",
            "  [1. 1. 1. 1.]]]\n",
            "Arange Default: [0 1 2 3 4 5 6 7]\n",
            "Arange Custom: [1 3 5 7 9]\n",
            "Identity Matrix:\n",
            " [[1. 0. 0. 0.]\n",
            " [0. 1. 0. 0.]\n",
            " [0. 0. 1. 0.]\n",
            " [0. 0. 0. 1.]]\n",
            "Rectangular Identity Matrix:\n",
            " [[1. 0. 0. 0.]\n",
            " [0. 1. 0. 0.]\n",
            " [0. 0. 1. 0.]]\n",
            "Diagonal:\n",
            " [[0. 1. 0. 0.]\n",
            " [0. 0. 1. 0.]\n",
            " [0. 0. 0. 1.]\n",
            " [0. 0. 0. 0.]]\n",
            "Linspace Array: [0.         0.11111111 0.22222222 0.33333333 0.44444444 0.55555556\n",
            " 0.66666667 0.77777778 0.88888889 1.        ]\n",
            "Linspace Array Without Endpoint: [0.  0.1 0.2 0.3 0.4 0.5 0.6 0.7 0.8 0.9]\n",
            "Array: [ 0.   2.5  5.   7.5 10. ]\n",
            "Step Size: 2.5\n"
          ]
        }
      ]
    },
    {
      "cell_type": "markdown",
      "source": [
        "### **Creating NumPy Arrays with Random Numbers**\n",
        "- NumPy provides the numpy.random module to generate arrays with random numbers. This module offers various functions to generate random data for different distributions and use cases."
      ],
      "metadata": {
        "id": "eskWWqCzNtze"
      }
    },
    {
      "cell_type": "code",
      "source": [
        "# 1. Random Numbers from Uniform Distribution (numpy.random.rand) - Generates random numbers between 0 and 1 from a uniform distribution.Values are evenly distributed over the interval [0, 1).\n",
        "import numpy as np\n",
        "\n",
        "# 1D Array of Random Numbers\n",
        "random_1d = np.random.rand(10)\n",
        "print(\"1D Array of Random Numbers:\", random_1d)\n",
        "\n",
        "# 2D Array of Random Numbers\n",
        "random_2d = np.random.rand(4, 5)\n",
        "print(\"2D Array of Random Numbers:\\n\", random_2d)\n",
        "\n",
        "# 2. Random Integers (numpy.random.randint) - Generates random integers from a specified range [low, high). Optionally specify the shape of the output array.\n",
        "# Random Integers between 10 and 20\n",
        "random_int = np.random.randint(10, 20, size=(3, 4))\n",
        "print(\"Random Integers:\\n\", random_int)\n",
        "\n",
        "# 3. Random Numbers from Normal Distribution (numpy.random.randn) - Generates random numbers from the standard normal distribution (mean=0, standard deviation=1).Values are sampled from a normal (Gaussian) distribution.\n",
        "# 1D Array from Standard Normal Distribution\n",
        "random_normal = np.random.randn(5)\n",
        "print(\"1D Array from Normal Distribution:\", random_normal)\n",
        "\n",
        "# 2D Array from Standard Normal Distribution\n",
        "random_normal_2d = np.random.randn(3, 3)\n",
        "print(\"2D Array from Normal Distribution:\\n\", random_normal_2d)\n",
        "\n",
        "# 4. Random Numbers from a Custom Uniform Range (numpy.random.uniform) - Generates random numbers from a uniform distribution within a specified range [low, high).\n",
        "# Random Numbers Between 5 and 10\n",
        "random_uniform = np.random.uniform(5, 10, size=(2, 3))\n",
        "print(\"Random Numbers from Custom Uniform Range:\\n\", random_uniform)\n",
        "\n",
        "# 5. Random Choice from a List or Array (numpy.random.choice) - Randomly selects elements from a given array or list.Can specify whether sampling should be with or without replacement.\n",
        "# Random Selection from a List\n",
        "arr_rand = [10, 20, 30, 40, 50,60,70]\n",
        "random_choice = np.random.choice(arr_rand, size=3, replace=False)\n",
        "print(\"Random Choice:\", random_choice)\n",
        "\n",
        "# 6. Random Numbers with Fixed Seed (numpy.random.seed) - Sets the seed for reproducibility of random numbers.\n",
        "# Setting the Seed\n",
        "np.random.seed(42)\n",
        "random_seed = np.random.rand(6)\n",
        "print(\"Random Numbers with Fixed Seed:\", random_seed)\n",
        "\n",
        "# 7. Random Numbers from Other Distributions\n",
        "# (i) Normal Distribution with Custom Mean and Standard Deviation\n",
        "mean = 15\n",
        "std_dev = 4\n",
        "random_normal = np.random.normal(mean, std_dev, size=(3, 3))\n",
        "print(\"Random Numbers from Normal Distribution:\\n\", random_normal)\n",
        "\n",
        " # (ii) Binomial Distribution\n",
        "n, p = 10, 0.5  # Number of trials and probability of success\n",
        "random_binomial = np.random.binomial(n, p, size=5)\n",
        "print(\"Random Numbers from Binomial Distribution:\", random_binomial)\n",
        "\n",
        "# (iii) Poisson Distribution\n",
        "Lam = 3  # Lambda parameter\n",
        "random_poisson = np.random.poisson(Lam, size=5)\n",
        "print(\"Random Numbers from Poisson Distribution:\", random_poisson)"
      ],
      "metadata": {
        "colab": {
          "base_uri": "https://localhost:8080/"
        },
        "id": "1sK2nnoUN_zP",
        "outputId": "f07bdcf3-1541-4c6a-c3d3-82e1e0b62a95"
      },
      "execution_count": 4,
      "outputs": [
        {
          "output_type": "stream",
          "name": "stdout",
          "text": [
            "1D Array of Random Numbers: [0.81272404 0.97774466 0.97392029 0.33670095 0.57007226 0.79899098\n",
            " 0.36373156 0.64561126 0.63619246 0.19631459]\n",
            "2D Array of Random Numbers:\n",
            " [[0.78265121 0.76640581 0.38757105 0.40974218 0.98931239]\n",
            " [0.63660173 0.35063134 0.85035081 0.16320199 0.45130253]\n",
            " [0.64694783 0.34590085 0.12479445 0.04721367 0.13549362]\n",
            " [0.30341755 0.80470839 0.17281034 0.54550309 0.61780369]]\n",
            "Random Integers:\n",
            " [[11 11 11 15]\n",
            " [14 10 19 15]\n",
            " [18 14 16 14]]\n",
            "1D Array from Normal Distribution: [-0.39786339  0.48413037  1.22375616  0.16101174 -2.27318418]\n",
            "2D Array from Normal Distribution:\n",
            " [[ 0.26130002  0.35672479  1.27112476]\n",
            " [ 1.03439246  0.51568904 -0.29822544]\n",
            " [ 1.02696602 -0.6793226   0.82805479]]\n",
            "Random Numbers from Custom Uniform Range:\n",
            " [[5.21561318 8.77885826 7.81868266]\n",
            " [9.5875207  5.9714858  9.04998736]]\n",
            "Random Choice: [20 40 60]\n",
            "Random Numbers with Fixed Seed: [0.37454012 0.95071431 0.73199394 0.59865848 0.15601864 0.15599452]\n",
            "Random Numbers from Normal Distribution:\n",
            " [[21.31685126 18.06973892 13.12210246]\n",
            " [17.17024017 13.14632923 13.13708099]\n",
            " [15.96784909  7.34687902  8.10032867]]\n",
            "Random Numbers from Binomial Distribution: [5 3 4 4 5]\n",
            "Random Numbers from Poisson Distribution: [3 0 2 4 2]\n"
          ]
        }
      ]
    },
    {
      "cell_type": "markdown",
      "source": [
        "## **Broadcasting Numpy Array**\n",
        "- Broadcasting is a powerful feature in NumPy that allows arrays with different shapes to perform arithmetic operations together.\n",
        "- Instead of creating large replicated arrays, NumPy automatically \"broadcasts\" the smaller array to match the shape of the larger array, optimizing performance and memory usage.\n",
        "\n",
        "\n",
        "### **Rule 1: Dimensions Compatibility**\n",
        "\n",
        "- If two arrays differ in their shape, the shape with fewer dimensions is padded with ones on its left side until both shapes have the same number of dimensions.\n",
        "\n",
        "### **Rule 2: Size Compatibility**\n",
        "\n",
        "- Two dimensions are compatible when:\n",
        "1.They are equal, or\n",
        "\n",
        "2.One of them is 1.\n",
        "\n",
        "### **Rule 3: Resulting Shape**\n",
        "\n",
        "- The resulting shape is the maximum size along each dimension.\n",
        "\n",
        "### **4. Error**\n",
        "\n",
        "- If the dimensions do not meet these criteria, a broadcasting error occurs."
      ],
      "metadata": {
        "id": "eF0vR-Z0SLeE"
      }
    },
    {
      "cell_type": "code",
      "source": [
        "# 1. Scalar and Array - A scalar is broadcast to match the shape of an array.\n",
        "import numpy as np\n",
        "\n",
        "# Scalar and 1D Array\n",
        "arr_1d = np.array([1, 2, 3])\n",
        "scalar = 2\n",
        "print(\"Addition of Scalar and 1D Array:\", arr_1d +scalar)\n",
        "\n",
        "# 2. Two Arrays with Compatible Shapes\n",
        "# 2D Array and 1D Array\n",
        "arr_2d = np.array([[1, 2, 3], [4, 5, 6]])\n",
        "print(\"Addition of 2D array and 1D array:\\n\", arr_1d + arr_2d)\n"
      ],
      "metadata": {
        "colab": {
          "base_uri": "https://localhost:8080/"
        },
        "id": "rW1jSK7bTyaf",
        "outputId": "5bd57d33-df17-4bdd-ab93-d6b85df0b417"
      },
      "execution_count": 5,
      "outputs": [
        {
          "output_type": "stream",
          "name": "stdout",
          "text": [
            "Addition of Scalar and 1D Array: [3 4 5]\n",
            "Addition of 2D array and 1D array:\n",
            " [[2 4 6]\n",
            " [5 7 9]]\n"
          ]
        }
      ]
    },
    {
      "cell_type": "code",
      "source": [
        "# Broadcasting Rules in Action\n",
        "# 1 Different Shapes\n",
        "import numpy as np\n",
        "a = np.array([[1], [2], [3]])  # Shape (3, 1)\n",
        "b = np.array([10, 20, 30, 40])  # Shape (1, 4)\n",
        "print(\"Addition of (3,1) and (1,4) shape array:\\n\", a + b )\n",
        "\n",
        "# 2 Incompatible Shapes\n",
        "#c = np.array([[1, 2], [3, 4], [5, 6]])  # Shape (3, 2)\n",
        "#d = np.array([[10, 20, 30], [40, 50, 60]])  # Shape (2, 3)\n",
        "\n",
        "# This will raise a ValueError\n",
        "# Reason:- The shapes (3, 2) and (2, 3) are not compatible for broadcasting because their dimensions do not satisfy the broadcasting rules.\n",
        "# print(\"Addition of incompatible shape :\", c + d)\n",
        "\n",
        "# Normalizing Data- Broadcasting can normalize a 2D array by subtracting the mean and dividing by the standard deviation along columns.\n",
        "data = np.array([[1.0, 2.0, 3.0], [4.0, 5.0, 6.0]])\n",
        "mean = data.mean(axis=0)\n",
        "std_dev = data.std(axis=0)\n",
        "normalized_data = (data - mean) / std_dev\n",
        "print(\"Normalized Data:\\n\", normalized_data)\n",
        "\n",
        "# Element-wise multiplication of different shaped arrays\n",
        "a = np.array([1, 2, 3])\n",
        "b = np.array([[1], [2], [3]])\n",
        "result = a * b\n",
        "print(\"Element-wise multiplication :\\n\", a*b)\n",
        "\n"
      ],
      "metadata": {
        "colab": {
          "base_uri": "https://localhost:8080/"
        },
        "id": "UHuKbmdhWMPS",
        "outputId": "f59576e3-3a9a-4697-a4f6-f6a1991f735f"
      },
      "execution_count": 6,
      "outputs": [
        {
          "output_type": "stream",
          "name": "stdout",
          "text": [
            "Addition of (3,1) and (1,4) shape array:\n",
            " [[11 21 31 41]\n",
            " [12 22 32 42]\n",
            " [13 23 33 43]]\n",
            "Normalized Data:\n",
            " [[-1. -1. -1.]\n",
            " [ 1.  1.  1.]]\n",
            "Element-wise multiplication :\n",
            " [[1 2 3]\n",
            " [2 4 6]\n",
            " [3 6 9]]\n"
          ]
        }
      ]
    },
    {
      "cell_type": "markdown",
      "source": [
        "## **Indexing and Slicing in NumPy Arrays**\n",
        "- Indexing and slicing in NumPy arrays allow you to access and modify specific elements, rows, columns, or subarrays of an array. This feature makes it easy to manipulate and extract subsets of data.\n"
      ],
      "metadata": {
        "id": "SRpVROBAiojq"
      }
    },
    {
      "cell_type": "code",
      "source": [
        "#  Indexing in NumPy Arrays\n",
        "# 1D Array Indexing - Similar to Python lists, indexing starts from 0.\n",
        "import numpy as np\n",
        "\n",
        "# Create a 1D array\n",
        "arr_1d = np.array([10, 20, 30, 40, 50, 60, 70])\n",
        "\n",
        "print(\"Access First Element:\", arr_1d[0])\n",
        "print(\"Access Last Element:\", arr_1d[-1])\n",
        "\n",
        " # 2D Array Indexing -Use two indices: one for rows and one for columns.\n",
        " # Create a 2D array\n",
        "arr_2d = np.array([[1, 2, 3], [4, 5, 6], [7, 8, 9]])\n",
        "print(\"Element at Row 1, Column 2:\", arr_2d[0, 1])\n",
        "print(\"Element at Row 3, Column 3:\", arr_2d[2, 2])\n",
        "\n",
        "# 3D Array Indexing- Use three indices: one for depth, one for rows, and one for columns.\n",
        "# Create a 3D array\n",
        "arr_3d = np.array([[[1, 2], [3, 4]], [[5, 6], [7, 8]]])\n",
        "\n",
        "print(\"Element at Depth 1, Row 2, Column 1:\", arr_3d[0, 1, 0])\n",
        "print(\"Element at Depth 2, Row 2, Column 2:\", arr_3d[1, 1, 1])\n",
        "\n"
      ],
      "metadata": {
        "colab": {
          "base_uri": "https://localhost:8080/"
        },
        "id": "4-GPVE89io0F",
        "outputId": "bd9427a0-6416-4b11-9fe8-c42fa7c031f3"
      },
      "execution_count": 7,
      "outputs": [
        {
          "output_type": "stream",
          "name": "stdout",
          "text": [
            "Access First Element: 10\n",
            "Access Last Element: 70\n",
            "Element at Row 1, Column 2: 2\n",
            "Element at Row 3, Column 3: 9\n",
            "Element at Depth 1, Row 2, Column 1: 3\n",
            "Element at Depth 2, Row 2, Column 2: 8\n"
          ]
        }
      ]
    },
    {
      "cell_type": "code",
      "source": [
        "# Slicing in NumPy Arrays- Slicing allows you to extract subarrays using the syntax\n",
        "# 1D Array Slicing\n",
        "# Create a 1D array\n",
        "\n",
        "# Extract subsets\n",
        "print(\"First 3 Elements:\", arr_1d[:3])\n",
        "print(\"Last 2 Elements:\", arr_1d[-2:])\n",
        "print(\"Every Other Element:\", arr_1d[::2])\n",
        "\n",
        "# 2D Array Slicing - Slice rows and columns separately using :.\n",
        "# Create a 2D array\n",
        "\n",
        "# Extract subsets\n",
        "print(\"First Row:\", arr_2d[0, :])\n",
        "print(\"First Column:\", arr_2d[:, 0])\n",
        "print(\"Subarray (Rows 1-2, Columns 2-3):\\n\", arr_2d[0:2, 1:3])\n",
        "\n",
        "# 3D Array Slicing - Slice depth, rows, and columns separately.\n",
        "# Create a 3D array\n",
        "arr_3d = np.array([[[1, 2], [3, 4]], [[5, 6], [7, 8]]])\n",
        "\n",
        "# Extract subsets\n",
        "print(\"All Elements from Depth 1:\\n\", arr_3d[0, :, :])\n",
        "\n",
        "print(\"First Column of All Depths:\\n\", arr_3d[:, :, 0])\n",
        "\n"
      ],
      "metadata": {
        "colab": {
          "base_uri": "https://localhost:8080/"
        },
        "id": "q5a9-6PolsDC",
        "outputId": "eb2808b9-e802-487b-8de3-94132e646332"
      },
      "execution_count": 8,
      "outputs": [
        {
          "output_type": "stream",
          "name": "stdout",
          "text": [
            "First 3 Elements: [10 20 30]\n",
            "Last 2 Elements: [60 70]\n",
            "Every Other Element: [10 30 50 70]\n",
            "First Row: [1 2 3]\n",
            "First Column: [1 4 7]\n",
            "Subarray (Rows 1-2, Columns 2-3):\n",
            " [[2 3]\n",
            " [5 6]]\n",
            "All Elements from Depth 1:\n",
            " [[1 2]\n",
            " [3 4]]\n",
            "First Column of All Depths:\n",
            " [[1 3]\n",
            " [5 7]]\n"
          ]
        }
      ]
    },
    {
      "cell_type": "code",
      "source": [
        "# Boolean Indexing - Boolean indexing allows you to filter elements based on conditions.\n",
        "# Create an array\n",
        "array = np.array([10, 15, 20, 25, 30])\n",
        "\n",
        "# Filter elements greater than 20\n",
        "filtered = array[array > 20]\n",
        "print(\"Filtered Elements:\", filtered)\n"
      ],
      "metadata": {
        "colab": {
          "base_uri": "https://localhost:8080/"
        },
        "id": "wFqZATY0yO6u",
        "outputId": "f5c709e8-bf6d-4df7-ca5a-cf07d58fbb93"
      },
      "execution_count": 9,
      "outputs": [
        {
          "output_type": "stream",
          "name": "stdout",
          "text": [
            "Filtered Elements: [25 30]\n"
          ]
        }
      ]
    },
    {
      "cell_type": "code",
      "source": [
        "#  Fancy Indexing - Fancy indexing allows you to access elements using arrays of indices.\n",
        "# Create an array\n",
        "array = np.array([10, 20, 30, 40, 50, 60, 70])\n",
        "\n",
        "# Access elements at specific positions\n",
        "indices = [0, 2, 4]\n",
        "print(\"Selected Elements:\", array[indices])\n",
        " # For 2D array\n",
        "array_2d = np.array([[1, 2, 3], [4, 5, 6], [7, 8, 9]])\n",
        "\n",
        "# Access specific rows and columns\n",
        "rows = [0, 1, 2]\n",
        "cols = [2, 1, 0]\n",
        "print(\"Fancy Indexing Result:\", array_2d[rows, cols])"
      ],
      "metadata": {
        "colab": {
          "base_uri": "https://localhost:8080/"
        },
        "id": "IoEVD25qybtp",
        "outputId": "50992cb7-c0e7-49ec-84ac-d8d95cde4c37"
      },
      "execution_count": 10,
      "outputs": [
        {
          "output_type": "stream",
          "name": "stdout",
          "text": [
            "Selected Elements: [10 30 50]\n",
            "Fancy Indexing Result: [3 5 7]\n"
          ]
        }
      ]
    },
    {
      "cell_type": "markdown",
      "source": [
        "### **Iterating Over NumPy Arrays**\n",
        "Iterating means going through elements one by one. As we deal with multi-dimensional arrays in numpy, we can do this using basis **for** loop of python.\n",
        "- If we iterate on a 1D array it will go through each element one by one.\n",
        "- In 2D array it will go through all the rows.\n",
        "- In a 3D array it will go through all the 2D-arrays.\n",
        "- In a nD array it will go through (n-1)th D one by one."
      ],
      "metadata": {
        "id": "y9H673vNzJTv"
      }
    },
    {
      "cell_type": "code",
      "source": [
        "# 1. Iterating Over 1D Arrays- For 1D arrays, iteration works similarly to iterating over a Python list.\n",
        "# Create a 1D array\n",
        "\n",
        "# Iterate using a loop\n",
        "for element in arr_1d:\n",
        "    print(element)\n",
        "\n",
        "# 2. Iterating Over 2D Arrays - When iterating over 2D arrays, the loop iterates through rows by default\n",
        "# Create a 2D array\n",
        "array_2d = np.array([[1, 2, 3], [4, 5, 6], [7, 8, 9]])\n",
        "\n",
        "# Iterate over rows\n",
        "for row in array_2d:\n",
        "    print(row)\n",
        "\n",
        "# 3. Iterating Over Individual Elements (Flattened Array)- To iterate over each element, you can use the numpy.nditer() function or flatten the array.\n",
        "# Iterate using nditer\n",
        "for element in np.nditer(array_2d):\n",
        "    print(element, end=\" \")\n",
        "\n",
        "# Flattening the Array\n",
        "# Iterate over flattened array\n",
        "for element in array_2d.flatten():\n",
        "    print(element, end=\" \")\n",
        "\n",
        "# 4. Iterating Over 3D Arrays- For higher-dimensional arrays, iteration follows the same principle: looping over the \"outermost\" arrays.\n",
        "# Create a 3D array\n",
        "array_3d = np.array([[[1, 2], [3, 4]], [[5, 6], [7, 8]]])\n",
        "\n",
        "# Iterate over 2D arrays\n",
        "for matrix in array_3d:\n",
        "    print(matrix)\n",
        "\n",
        "# Iterating Over All Elements in 3D Arrays\n",
        "# Use nditer to iterate over all elements\n",
        "for element in np.nditer(array_3d):\n",
        "    print(element, end=\" \")\n",
        "\n",
        "# 5. Modifying Array Elements During Iteration- To modify array elements during iteration, you can use the op_flags=['readwrite'] argument in nditer.\n",
        "# Modify elements during iteration\n",
        "for element in np.nditer(array_2d, op_flags=['readwrite']):\n",
        "    element[...] = element * 2  # Multiply each element by 2\n",
        "\n",
        "print(\"Modified Array:\\n\", array_2d)\n",
        "\n",
        "# 6. Iterating with Conditions- You can iterate and apply conditions using a loop or NumPy's boolean indexing.\n",
        "# Using Loops\n",
        "# Print only elements greater than 4\n",
        "for element in np.nditer(array_2d):\n",
        "    if element > 4:\n",
        "        print(element, end=\" \")\n",
        "\n",
        "# Using Boolean Indexing\n",
        "# Print only elements greater than 4\n",
        "print(array_2d[array_2d > 4])\n",
        "\n",
        "# 7. Iterating with Index Tracking (numpy.ndenumerate)- To track both the index and the value, use numpy.ndenumerate.\n",
        "# Track index and value\n",
        "for index, value in np.ndenumerate(array_2d):\n",
        "    print(f\"Index: {index}, Value: {value}\")\n",
        "\n",
        "# 8. Iterating with Step Size-You can specify a step size for iteration using slicing.\n",
        "# Iterate with a step size\n",
        "for element in array_2d[::2, ::2]:  # Skip every other row and column\n",
        "    print(element)\n",
        "\n",
        "# 9. Vectorized Operations vs. Iteration-While iteration is useful, vectorized operations are generally faster and more efficient in NumPy.\n",
        "# Add 10 to every element (vectorized)\n",
        "array_2d += 10\n",
        "print(array_2d)\n",
        "\n",
        "\n"
      ],
      "metadata": {
        "colab": {
          "base_uri": "https://localhost:8080/"
        },
        "id": "IANJ9sNn0UAP",
        "outputId": "cb322041-0521-4f31-89f3-b017f1f19633"
      },
      "execution_count": 11,
      "outputs": [
        {
          "output_type": "stream",
          "name": "stdout",
          "text": [
            "10\n",
            "20\n",
            "30\n",
            "40\n",
            "50\n",
            "60\n",
            "70\n",
            "[1 2 3]\n",
            "[4 5 6]\n",
            "[7 8 9]\n",
            "1 2 3 4 5 6 7 8 9 1 2 3 4 5 6 7 8 9 [[1 2]\n",
            " [3 4]]\n",
            "[[5 6]\n",
            " [7 8]]\n",
            "1 2 3 4 5 6 7 8 Modified Array:\n",
            " [[ 2  4  6]\n",
            " [ 8 10 12]\n",
            " [14 16 18]]\n",
            "6 8 10 12 14 16 18 [ 6  8 10 12 14 16 18]\n",
            "Index: (0, 0), Value: 2\n",
            "Index: (0, 1), Value: 4\n",
            "Index: (0, 2), Value: 6\n",
            "Index: (1, 0), Value: 8\n",
            "Index: (1, 1), Value: 10\n",
            "Index: (1, 2), Value: 12\n",
            "Index: (2, 0), Value: 14\n",
            "Index: (2, 1), Value: 16\n",
            "Index: (2, 2), Value: 18\n",
            "[2 6]\n",
            "[14 18]\n",
            "[[12 14 16]\n",
            " [18 20 22]\n",
            " [24 26 28]]\n"
          ]
        }
      ]
    },
    {
      "cell_type": "markdown",
      "source": [
        "## **Enumerated Iteration in NumPy Using numpy.ndenumerate**\n",
        "- Enumeration means mentioning sequence number of something one by one.\n",
        "- Sometimes we require corresponding index of the element while iterating, the ndenumerate() method can be used for those usecases."
      ],
      "metadata": {
        "id": "qbid2TjiDtrN"
      }
    },
    {
      "cell_type": "code",
      "source": [
        "# Create a 1D array\n",
        "\n",
        "# Enumerate indices and values\n",
        "for index, value in np.ndenumerate(arr_1d):\n",
        "    print(f\"Index: {index}, Value: {value}\")\n",
        "\n",
        "# Create a 2D array\n",
        "\n",
        "# Enumerate indices and values\n",
        "for index, value in np.ndenumerate(arr_2d):\n",
        "    print(f\"Index: {index}, Value: {value}\")\n",
        "\n",
        "# Create a 3D array\n",
        "\n",
        "# Enumerate indices and values\n",
        "for index, value in np.ndenumerate(array_3d):\n",
        "    print(f\"Index: {index}, Value: {value}\")\n",
        "\n",
        "# Double the value of elements greater than 3\n",
        "for index, value in np.ndenumerate(arr_2d):\n",
        "    if value > 3:\n",
        "        arr_2d[index] = value * 2\n",
        "\n",
        "print(\"Modified Array:\\n\", arr_2d)"
      ],
      "metadata": {
        "colab": {
          "base_uri": "https://localhost:8080/"
        },
        "id": "91-sC_S6EL10",
        "outputId": "7cfbfb5a-fc68-4fef-c3a9-47d8af44ea06"
      },
      "execution_count": 12,
      "outputs": [
        {
          "output_type": "stream",
          "name": "stdout",
          "text": [
            "Index: (0,), Value: 10\n",
            "Index: (1,), Value: 20\n",
            "Index: (2,), Value: 30\n",
            "Index: (3,), Value: 40\n",
            "Index: (4,), Value: 50\n",
            "Index: (5,), Value: 60\n",
            "Index: (6,), Value: 70\n",
            "Index: (0, 0), Value: 1\n",
            "Index: (0, 1), Value: 2\n",
            "Index: (0, 2), Value: 3\n",
            "Index: (1, 0), Value: 4\n",
            "Index: (1, 1), Value: 5\n",
            "Index: (1, 2), Value: 6\n",
            "Index: (2, 0), Value: 7\n",
            "Index: (2, 1), Value: 8\n",
            "Index: (2, 2), Value: 9\n",
            "Index: (0, 0, 0), Value: 1\n",
            "Index: (0, 0, 1), Value: 2\n",
            "Index: (0, 1, 0), Value: 3\n",
            "Index: (0, 1, 1), Value: 4\n",
            "Index: (1, 0, 0), Value: 5\n",
            "Index: (1, 0, 1), Value: 6\n",
            "Index: (1, 1, 0), Value: 7\n",
            "Index: (1, 1, 1), Value: 8\n",
            "Modified Array:\n",
            " [[ 1  2  3]\n",
            " [ 8 10 12]\n",
            " [14 16 18]]\n"
          ]
        }
      ]
    },
    {
      "cell_type": "code",
      "source": [
        "# Comparing ndenumerate with enumerate\n",
        "# enumerate works for 1D arrays or lists but is less effective for multi-dimensional arrays. ndenumerate is designed specifically for multi-dimensional NumPy arrays.\n",
        "\n",
        "# Create a 2D array\n",
        "array_2d = np.array([[1, 2, 3], [4, 5, 6]])\n",
        "\n",
        "# Using enumerate (less intuitive for multi-dimensions)\n",
        "for i, row in enumerate(array_2d):\n",
        "    for j, value in enumerate(row):\n",
        "        print(f\"Value: {value} at Index: ({i}, {j})\")\n",
        "\n",
        "# Using ndenumerate (simpler and more intuitive)\n",
        "for index, value in np.ndenumerate(array_2d):\n",
        "    print(f\"Value: {value} at Index: {index}\")"
      ],
      "metadata": {
        "colab": {
          "base_uri": "https://localhost:8080/"
        },
        "id": "2vQ2zpC4Eq4f",
        "outputId": "b501b487-07c6-416e-dfe4-3a68789c6fcb"
      },
      "execution_count": 13,
      "outputs": [
        {
          "output_type": "stream",
          "name": "stdout",
          "text": [
            "Value: 1 at Index: (0, 0)\n",
            "Value: 2 at Index: (0, 1)\n",
            "Value: 3 at Index: (0, 2)\n",
            "Value: 4 at Index: (1, 0)\n",
            "Value: 5 at Index: (1, 1)\n",
            "Value: 6 at Index: (1, 2)\n",
            "Value: 1 at Index: (0, 0)\n",
            "Value: 2 at Index: (0, 1)\n",
            "Value: 3 at Index: (0, 2)\n",
            "Value: 4 at Index: (1, 0)\n",
            "Value: 5 at Index: (1, 1)\n",
            "Value: 6 at Index: (1, 2)\n"
          ]
        }
      ]
    },
    {
      "cell_type": "markdown",
      "source": [
        "# **Join Functions**\n",
        "- Joining means putting contents of two or more arrays in as single array.\n",
        "- We pass a sequence of arrays that we want to join to the concatenate() function along with the axis, if axis is not explicitly passed, it is taken as 0."
      ],
      "metadata": {
        "id": "IFhPtq4BSoXE"
      }
    },
    {
      "cell_type": "code",
      "source": [
        "# np.concatenate()- Combines two or more arrays along an existing axis.\n",
        "import numpy as np\n",
        "\n",
        "arr1 = np.array([1, 2, 3])\n",
        "arr2 = np.array([4, 5, 6])\n",
        "\n",
        "result = np.concatenate((arr1, arr2))\n",
        "print(result)\n",
        "\n",
        "# Joining 2D Arrays -\n",
        "arr1 = np.array([[1, 2], [3, 4]])\n",
        "arr2 = np.array([[5, 6]])\n",
        "\n",
        "# Join along rows (axis=0)\n",
        "result_row = np.concatenate((arr1, arr2), axis=0)\n",
        "print(\"Join along axis=0: \\n\",result_row)\n",
        "\n",
        "# Join along columns (axis=1)\n",
        "result_col= np.concatenate((arr1, arr2.T), axis=1)\n",
        "print(\"Join along axis=1:\\n\",result_col)"
      ],
      "metadata": {
        "colab": {
          "base_uri": "https://localhost:8080/"
        },
        "id": "73k2vJQgTvgw",
        "outputId": "ebbc8e5a-27be-4965-d1dc-7e1dfcefe757"
      },
      "execution_count": 14,
      "outputs": [
        {
          "output_type": "stream",
          "name": "stdout",
          "text": [
            "[1 2 3 4 5 6]\n",
            "Join along axis=0: \n",
            " [[1 2]\n",
            " [3 4]\n",
            " [5 6]]\n",
            "Join along axis=1:\n",
            " [[1 2 5]\n",
            " [3 4 6]]\n"
          ]
        }
      ]
    },
    {
      "cell_type": "markdown",
      "source": [
        "# **Joining arrays using stack function**\n",
        "\n",
        "- Stacking is same as concatenation, the only difference is that stackng is done along a new axis.\n",
        "- We can concatenate two 1D arrays along the second axis which would result in putting them one over the other\n",
        "- We pass a sequence of arrays that we want to join to the stack() method along with the axis. If axis is not explicitly passed it is taken as 0.\n"
      ],
      "metadata": {
        "id": "zookg2EXXyM3"
      }
    },
    {
      "cell_type": "code",
      "source": [
        "# 1 numpy.vstack (Vertical Stack)-Stacks arrays vertically (row-wise).\n",
        "# Vertical stacking\n",
        "result = np.vstack((arr1, arr2))\n",
        "print(\"Vertical Stack:\\n\", result)\n",
        "\n",
        "#  Vertical stacking\n",
        "result = np.vstack((arr1, arr2))\n",
        "print(\"Vertical Stack:\\n\", result)\n",
        "\n",
        "# 3 numpy.dstack (Depth Stack)-Stacks arrays along a new third axis.\n",
        "# Create arrays\n",
        "arr4 = np.array([[1, 2], [3, 4]])\n",
        "arr5 = np.array([[5, 6], [7, 8]])\n",
        "\n",
        "# Depth stacking\n",
        "result = np.dstack((arr4, arr5))\n",
        "print(\"Depth Stack:\\n\", result)\n",
        "\n",
        "# 4 numpy.column_stack- Stacks 1D arrays as columns into a 2D array.\n",
        "# Create 1D arrays\n",
        "arr6 = np.array([1, 2, 3])\n",
        "arr7 = np.array([4, 5, 6])\n",
        "\n",
        "# Column stacking\n",
        "result = np.column_stack((arr6, arr7))\n",
        "print(\"Column Stack:\\n\", result)\n",
        "\n",
        "# 5 numpy.row_stack-Stacks 1D arrays as rows into a 2D array (alias for vstack).\n",
        "# Row stacking\n",
        "result = np.row_stack((arr6, arr7))\n",
        "print(\"Row Stack:\\n\", result)"
      ],
      "metadata": {
        "colab": {
          "base_uri": "https://localhost:8080/"
        },
        "id": "CvIBktBqU0o0",
        "outputId": "08de9aa1-b339-43ee-ee49-45cd591bb4b9"
      },
      "execution_count": 15,
      "outputs": [
        {
          "output_type": "stream",
          "name": "stdout",
          "text": [
            "Vertical Stack:\n",
            " [[1 2]\n",
            " [3 4]\n",
            " [5 6]]\n",
            "Vertical Stack:\n",
            " [[1 2]\n",
            " [3 4]\n",
            " [5 6]]\n",
            "Depth Stack:\n",
            " [[[1 5]\n",
            "  [2 6]]\n",
            "\n",
            " [[3 7]\n",
            "  [4 8]]]\n",
            "Column Stack:\n",
            " [[1 4]\n",
            " [2 5]\n",
            " [3 6]]\n",
            "Row Stack:\n",
            " [[1 2 3]\n",
            " [4 5 6]]\n"
          ]
        }
      ]
    },
    {
      "cell_type": "markdown",
      "source": [
        "# **Splitting NumPy Arrays**\n",
        "\n",
        "- Splitting is reverse operation of joining. Joining merges multiple arrays into one.\n",
        "- Splitting breaks one array into multiple.\n",
        "- Splitting involves dividing an array into multiple sub-arrays.\n",
        "- We use array_split() for splitting arrays, We pass it the array we want to split and the number of splits.\n",
        "-  NumPy provides several functions for this:\n"
      ],
      "metadata": {
        "id": "4nEWUgF6Vmry"
      }
    },
    {
      "cell_type": "code",
      "source": [
        "# 1 numpy.split - Splits an array into multiple sub-arrays.\n",
        "# Create array\n",
        "arr = np.array([[1, 2, 3], [4, 5, 6]])\n",
        "\n",
        "# Split into 2 parts along axis=1 (columns)\n",
        "result = np.split(arr, 2)\n",
        "print(\"Split Result:\\n\", result)\n",
        "\n",
        "# 2 numpy.array_split - Splits an array into sub-arrays of unequal size.\n",
        "# Unequal splitting\n",
        "result = np.array_split(arr, 3, axis=1)\n",
        "print(\"Unequal Split:\\n\", result)\n",
        "\n",
        "# numpy.hsplit (Horizontal Split) - Splits an array horizontally (column-wise).\n",
        "# Horizontal split\n",
        "result = np.hsplit(arr, 3)\n",
        "print(\"Horizontal Split:\\n\", result)\n",
        "\n",
        "# 4 numpy.vsplit (Vertical Split) - Splits an array vertically (row-wise).\n",
        "# Vertical split\n",
        "result = np.vsplit(arr, 2)\n",
        "print(\"Vertical Split:\\n\", result)\n",
        "\n",
        "# 5 numpy.dsplit (Depth Split) - Splits an array along the third axis.\n",
        "# Create 3D array\n",
        "arr_3d = np.array([[[1, 2], [3, 4]], [[5, 6], [7, 8]]])\n",
        "\n",
        "# Depth split\n",
        "result = np.dsplit(arr_3d, 2)\n",
        "print(\"Depth Split:\\n\", result)"
      ],
      "metadata": {
        "colab": {
          "base_uri": "https://localhost:8080/"
        },
        "id": "pM7fY1ABVuuZ",
        "outputId": "049dba18-cefe-4da4-d501-d15f1ead73ec"
      },
      "execution_count": 16,
      "outputs": [
        {
          "output_type": "stream",
          "name": "stdout",
          "text": [
            "Split Result:\n",
            " [array([[1, 2, 3]]), array([[4, 5, 6]])]\n",
            "Unequal Split:\n",
            " [array([[1],\n",
            "       [4]]), array([[2],\n",
            "       [5]]), array([[3],\n",
            "       [6]])]\n",
            "Horizontal Split:\n",
            " [array([[1],\n",
            "       [4]]), array([[2],\n",
            "       [5]]), array([[3],\n",
            "       [6]])]\n",
            "Vertical Split:\n",
            " [array([[1, 2, 3]]), array([[4, 5, 6]])]\n",
            "Depth Split:\n",
            " [array([[[1],\n",
            "        [3]],\n",
            "\n",
            "       [[5],\n",
            "        [7]]]), array([[[2],\n",
            "        [4]],\n",
            "\n",
            "       [[6],\n",
            "        [8]]])]\n"
          ]
        }
      ]
    },
    {
      "cell_type": "markdown",
      "source": [
        "### **NumPy Array Functions: Search, Sort, Searchsorted, and Filter**\n",
        "1. **Search Functions**\n",
        "- You can search an array for a certain value, and return the indexes that get a match.\n",
        "- To search an array, use the where() method.\n",
        "\n",
        "2. **Sorting Functions**\n",
        "- Sorting arranges the elements of an array in ascending or descending order.\n",
        "- Sorting means putting elements in an ordered sequence.\n",
        "- Ordered sequence is any sequence that has an order corresponding to elements, like numeric or alphabetical, ascending or descending.\n",
        "- The Numpy ndarray object has a function called sort() that will sort a specified array.\n",
        "\n",
        "3. **numpy.searchsorted**\n",
        "- There is a method called searchsorted() which performs a binary search in the array and return the index where the specified value would be inserted to maintain the search order.\n",
        "- Searches for the indices where elements should be inserted to maintain order in a sorted array.\n",
        "  **Search from the right side**\n",
        "  - By default the left most index is returned, but we can give side='right' to return the right most index instead.\n",
        "4. **Filtering Functions**\n",
        "- Filtering allows you to extract elements based on conditions.\n",
        "- Getting some elements out of an existing array and creating a new array out of them is called filtering.\n",
        "- In Numpy you filter an array using a boolean index list.\n",
        "- If the value at an index is **True** that element is contained in the filtered array, if the value at that index if **False** that element is excluded from the filtered array."
      ],
      "metadata": {
        "id": "rFd3OxWoag39"
      }
    },
    {
      "cell_type": "code",
      "source": [
        "#  Search Functions\n",
        "\n",
        "# 1 numpy.where - Finds indices of elements that satisfy a condition.\n",
        "import numpy as np\n",
        "\n",
        "# Array\n",
        "arr = np.array([10, 20, 30, 40, 50])\n",
        "\n",
        "# Find indices where values are greater than 25\n",
        "result = np.where(arr > 25)\n",
        "print(\"Indices where values > 25:\", result)\n",
        "\n",
        "# Replace values: if > 25, replace with 100; otherwise, replace with 0\n",
        "modified = np.where(arr > 25, 100, 0)\n",
        "print(\"Modified array:\", modified)\n",
        "\n",
        "# 2 numpy.nonzero - Finds the indices of non-zero elements in an array.\n",
        "arr = np.array([0, 1, 2, 0, 3, 0, 4])\n",
        "\n",
        "# Get non-zero indices\n",
        "result = np.nonzero(arr)\n",
        "print(\"Non-zero indices:\", result)\n",
        "\n",
        "# 3 numpy.argwhere- Finds the indices of elements that satisfy a condition, but returns a 2D array of indices.\n",
        "arr = np.array([[10, 20], [30, 40], [50, 60]])\n",
        "\n",
        "# Find indices where values are > 30\n",
        "result = np.argwhere(arr > 30)\n",
        "print(\"Indices where values > 30:\\n\", result)"
      ],
      "metadata": {
        "colab": {
          "base_uri": "https://localhost:8080/"
        },
        "id": "4YM6qZR7cSXr",
        "outputId": "2a3b191c-ae1b-4eec-d442-58ff8124c52d"
      },
      "execution_count": 17,
      "outputs": [
        {
          "output_type": "stream",
          "name": "stdout",
          "text": [
            "Indices where values > 25: (array([2, 3, 4]),)\n",
            "Modified array: [  0   0 100 100 100]\n",
            "Non-zero indices: (array([1, 2, 4, 6]),)\n",
            "Indices where values > 30:\n",
            " [[1 1]\n",
            " [2 0]\n",
            " [2 1]]\n"
          ]
        }
      ]
    },
    {
      "cell_type": "code",
      "source": [
        "#   Sorting Functions\n",
        "\n",
        "# 1 numpy.sort- Sorts an array along a specified axis.\n",
        "arr = np.array([[3, 2, 1], [6, 5, 4]])\n",
        "\n",
        "# Sort each row\n",
        "sorted_arr = np.sort(arr, axis=1)\n",
        "print(\"Row-wise sorted array:\\n\", sorted_arr)\n",
        "\n",
        "# Sort each column\n",
        "sorted_arr = np.sort(arr, axis=0)\n",
        "print(\"Column-wise sorted array:\\n\", sorted_arr)\n",
        "\n",
        "# 2 numpy.argsort- Returns the indices that would sort an array.\n",
        "arr = np.array([30, 10, 20])\n",
        "\n",
        "# Get indices to sort the array\n",
        "sorted_indices = np.argsort(arr)\n",
        "print(\"Indices to sort the array:\", sorted_indices)\n",
        "\n",
        "# Sort using the indices\n",
        "sorted_arr = arr[sorted_indices]\n",
        "print(\"Sorted array:\", sorted_arr)\n",
        "\n"
      ],
      "metadata": {
        "colab": {
          "base_uri": "https://localhost:8080/"
        },
        "id": "sdM7demEcwg8",
        "outputId": "e2832a52-093a-4ff7-82f4-e85ca5362e69"
      },
      "execution_count": 18,
      "outputs": [
        {
          "output_type": "stream",
          "name": "stdout",
          "text": [
            "Row-wise sorted array:\n",
            " [[1 2 3]\n",
            " [4 5 6]]\n",
            "Column-wise sorted array:\n",
            " [[3 2 1]\n",
            " [6 5 4]]\n",
            "Indices to sort the array: [1 2 0]\n",
            "Sorted array: [10 20 30]\n"
          ]
        }
      ]
    },
    {
      "cell_type": "code",
      "source": [
        "#  numpy.searchsorted\n",
        "\n",
        "sorted_array = np.array([10, 20, 30, 40])\n",
        "\n",
        "# Find insertion indices\n",
        "indices = np.searchsorted(sorted_array, [25, 35])\n",
        "print(\"Indices for insertion:\", indices)\n",
        "\n",
        "# Using 'right' side\n",
        "indices = np.searchsorted(sorted_array, [25, 35], side='right')\n",
        "print(\"Indices for insertion (right side):\", indices)"
      ],
      "metadata": {
        "colab": {
          "base_uri": "https://localhost:8080/"
        },
        "id": "9FKuPFjEdDtF",
        "outputId": "8d37cc9d-34ea-4819-ef27-33a83e38173a"
      },
      "execution_count": 19,
      "outputs": [
        {
          "output_type": "stream",
          "name": "stdout",
          "text": [
            "Indices for insertion: [2 3]\n",
            "Indices for insertion (right side): [2 3]\n"
          ]
        }
      ]
    },
    {
      "cell_type": "code",
      "source": [
        "#  Filtering Functions\n",
        "\n",
        "# 1 Filtering with Boolean Indexing - You can directly use conditions to filter arrays.\n",
        "arr = np.array([10, 20, 30, 40, 50])\n",
        "\n",
        "# Filter elements greater than 25\n",
        "filtered = arr[arr > 25]\n",
        "print(\"Filtered array:\", filtered)\n",
        "\n",
        "# 2 numpy.extract - Extracts elements that satisfy a condition.\n",
        "# Extract elements greater than 25\n",
        "condition = arr > 25\n",
        "result = np.extract(condition, arr)\n",
        "print(\"Extracted elements:\", result)\n",
        "\n",
        "# 3 Custom Filtering with numpy.vectorize - Use numpy.vectorize to apply a function to each element.\n",
        "\n",
        "# Define a custom filter function\n",
        "def is_even(x):\n",
        "    return x % 2 == 0\n",
        "\n",
        "# Apply the function to the array\n",
        "vectorized = np.vectorize(is_even)\n",
        "result = arr[vectorized(arr)]\n",
        "print(\"Filtered even numbers:\", result)\n"
      ],
      "metadata": {
        "colab": {
          "base_uri": "https://localhost:8080/"
        },
        "id": "Qa_8Ot-7dJOD",
        "outputId": "aa51c83c-d06c-4566-ddec-d121a8a908dc"
      },
      "execution_count": 20,
      "outputs": [
        {
          "output_type": "stream",
          "name": "stdout",
          "text": [
            "Filtered array: [30 40 50]\n",
            "Extracted elements: [30 40 50]\n",
            "Filtered even numbers: [10 20 30 40 50]\n"
          ]
        }
      ]
    },
    {
      "cell_type": "markdown",
      "source": [
        "# **NumPy Array Functions: Shuffle, Unique, Resize, Flatten, and Ravel**\n",
        "\n",
        "1. **Shuffle Function (numpy.random.shuffle)**\n",
        "- The shuffle() method takes a sequence, like a list and recoganize the order of the items.\n",
        "- Shuffle means changing arrangement of elements in place i.e. in the array itself.\n",
        "\n",
        "2. **Unique Function (numpy.unique)**\n",
        "- Finds the unique elements of an array, optionally returning their indices and counts.\n",
        "- The unique() function is used to find the unique elements of an array.Returns the sorted unique elements of an array. There are three optional outputs in addition to the unique elements\n",
        "- The indices of the input array that give the unique values.\n",
        "- The indices of the unique array that reconstruct the input array.\n",
        "- The number of times each unique value comes up in the input array.\n",
        "\n",
        "3. **Resize Function (numpy.resize)**\n",
        "- Resizes an array to a new shape. If the new size is larger, the array is repeated to fill the space.\n",
        "- The resize() function is used to create a new array with the specified shape. If the new array is larger than the original array, then the new array is filled with repeated copies.\n",
        "\n",
        "4. **Flatten Function (numpy.ndarray.flatten)**\n",
        "- Flattens a multi-dimensional array into a 1D array. It always returns a copy.\n",
        "- The flatten() function is used to get a copy of an given array collapsed into one dimension.\n",
        "\n",
        "5. **Ravel Function (numpy.ravel)**\n",
        "- Returns a flattened view of the array (if possible), avoiding copying data unless necessary."
      ],
      "metadata": {
        "id": "VR2lKND0goI6"
      }
    },
    {
      "cell_type": "code",
      "source": [
        "# import numpy as np\n",
        "\n",
        "# Create a 2D array\n",
        "arr = np.array([[1, 2, 3], [4, 5, 6], [7, 8, 9]])\n",
        "\n",
        "# Shuffle the array\n",
        "np.random.shuffle(arr)\n",
        "print(\"Shuffled array:\\n\", arr)\n",
        "\n",
        "# Create an array with duplicates\n",
        "arr = np.array([1, 2, 2, 3, 4, 4, 4, 5])\n",
        "\n",
        "# Find unique elements\n",
        "unique_elements = np.unique(arr)\n",
        "print(\"Unique elements:\", unique_elements)\n",
        "\n",
        "# Find unique elements with counts\n",
        "unique_elements, counts = np.unique(arr, return_counts=True)\n",
        "print(\"Unique elements with counts:\", unique_elements, counts)\n",
        "\n",
        "# Create an array\n",
        "arr = np.array([1, 2, 3, 4])\n",
        "\n",
        "# Resize to a 3x3 array (elements repeat)\n",
        "resized = np.resize(arr, (3, 3))\n",
        "print(\"Resized array:\\n\", resized)\n",
        "\n",
        "\n",
        "# Create a 2D array\n",
        "arr = np.array([[1, 2], [3, 4]])\n",
        "\n",
        "# Flatten the array\n",
        "flattened = arr.flatten()\n",
        "print(\"Flattened array:\", flattened)\n",
        "\n",
        "# Create a 2D array\n",
        "arr = np.array([[1, 2], [3, 4]])\n",
        "\n",
        "# Ravel the array\n",
        "raveled = np.ravel(arr)\n",
        "print(\"Raveled array:\", raveled)"
      ],
      "metadata": {
        "colab": {
          "base_uri": "https://localhost:8080/"
        },
        "id": "8m3XRKFMhDPz",
        "outputId": "bd036b2e-5f1b-456b-a080-a4806347a8fe"
      },
      "execution_count": 21,
      "outputs": [
        {
          "output_type": "stream",
          "name": "stdout",
          "text": [
            "Shuffled array:\n",
            " [[7 8 9]\n",
            " [4 5 6]\n",
            " [1 2 3]]\n",
            "Unique elements: [1 2 3 4 5]\n",
            "Unique elements with counts: [1 2 3 4 5] [1 2 1 3 1]\n",
            "Resized array:\n",
            " [[1 2 3]\n",
            " [4 1 2]\n",
            " [3 4 1]]\n",
            "Flattened array: [1 2 3 4]\n",
            "Raveled array: [1 2 3 4]\n"
          ]
        }
      ]
    },
    {
      "cell_type": "markdown",
      "source": [
        "# **Insert and Delete Functions in NumPy**\n",
        "\n",
        "1. **Insert Function**\n",
        "- The insert() function is used to insert values along the given axis before the given indices.\n",
        "\n",
        "2. **Delete Function**\n",
        "- The delete() function return a new array with sub-arrays along an axis deleted. For a one-dimensional array, this returns those entries not returned by arr[obj]"
      ],
      "metadata": {
        "id": "wY0bhStukS4d"
      }
    },
    {
      "cell_type": "code",
      "source": [
        "# 1. Insert Function (numpy.insert) - The numpy.insert function inserts values into an array at specified indices. It creates a new array without modifying the original.\n",
        "#  Insert into a 1D Array\n",
        "\n",
        "import numpy as np\n",
        "\n",
        "\n",
        "# Original array\n",
        "arr = np.array([1, 2, 3, 4, 5])\n",
        "\n",
        "# Insert value 10 at index 2\n",
        "new_arr = np.insert(arr, 2, 10)\n",
        "print(\"Original array:\", arr)\n",
        "print(\"Array after insertion:\", new_arr)\n",
        "\n",
        "#  Insert into a 2D Array\n",
        "# Original 2D array\n",
        "arr_2d = np.array([[1, 2], [3, 4]])\n",
        "\n",
        "# Insert a new row [5, 6] at index 1\n",
        "new_arr_2d = np.insert(arr_2d, 1, [5, 6], axis=0)\n",
        "print(\"Array after row insertion:\\n\", new_arr_2d)\n",
        "\n",
        "# Insert a new column [7, 8, 9] at index 1\n",
        "new_arr_2d_col = np.insert(new_arr_2d, 1, [7, 8, 9], axis=1)\n",
        "print(\"Array after column insertion:\\n\", new_arr_2d_col)\n",
        "\n"
      ],
      "metadata": {
        "colab": {
          "base_uri": "https://localhost:8080/"
        },
        "id": "2uNWfYMhlNCN",
        "outputId": "a9324701-748f-483e-880a-bb5097a840fc"
      },
      "execution_count": 22,
      "outputs": [
        {
          "output_type": "stream",
          "name": "stdout",
          "text": [
            "Original array: [1 2 3 4 5]\n",
            "Array after insertion: [ 1  2 10  3  4  5]\n",
            "Array after row insertion:\n",
            " [[1 2]\n",
            " [5 6]\n",
            " [3 4]]\n",
            "Array after column insertion:\n",
            " [[1 7 2]\n",
            " [5 8 6]\n",
            " [3 9 4]]\n"
          ]
        }
      ]
    },
    {
      "cell_type": "code",
      "source": [
        "# 2. Delete Function (numpy.delete) - The numpy.delete function removes elements from an array at specified indices. It creates a new array without modifying the original.\n",
        "# 1 Delete from a 1D Array\n",
        "# Original array\n",
        "arr = np.array([1, 2, 3, 4, 5])\n",
        "\n",
        "# Delete element at index 2\n",
        "new_arr = np.delete(arr, 2)\n",
        "print(\"Original array:\", arr)\n",
        "print(\"Array after deletion:\", new_arr)\n",
        "\n",
        "# 2 Delete from a 2D Array\n",
        "# Original 2D array\n",
        "arr_2d = np.array([[1, 2, 3], [4, 5, 6], [7, 8, 9]])\n",
        "\n",
        "# Delete the second row (index 1)\n",
        "new_arr_2d = np.delete(arr_2d, 1, axis=0)\n",
        "print(\"Array after row deletion:\\n\", new_arr_2d)\n",
        "\n",
        "# Delete the first column (index 0)\n",
        "new_arr_2d_col = np.delete(new_arr_2d, 0, axis=1)\n",
        "print(\"Array after column deletion:\\n\", new_arr_2d_col)\n",
        "\n"
      ],
      "metadata": {
        "colab": {
          "base_uri": "https://localhost:8080/"
        },
        "id": "Mr36IBQW1PAq",
        "outputId": "3fd5fbad-da6e-407e-8501-1957bbc98e38"
      },
      "execution_count": 23,
      "outputs": [
        {
          "output_type": "stream",
          "name": "stdout",
          "text": [
            "Original array: [1 2 3 4 5]\n",
            "Array after deletion: [1 2 4 5]\n",
            "Array after row deletion:\n",
            " [[1 2 3]\n",
            " [7 8 9]]\n",
            "Array after column deletion:\n",
            " [[2 3]\n",
            " [8 9]]\n"
          ]
        }
      ]
    }
  ]
}
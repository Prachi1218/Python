{
  "nbformat": 4,
  "nbformat_minor": 0,
  "metadata": {
    "colab": {
      "provenance": []
    },
    "kernelspec": {
      "name": "python3",
      "display_name": "Python 3"
    },
    "language_info": {
      "name": "python"
    }
  },
  "cells": [
    {
      "cell_type": "markdown",
      "source": [
        "# **Data Type:-**\n",
        " A data type specifies the type of value a variable can hold. It defines the kind of data (e.g., numbers, text, etc.) that can be stored and manipulated in a program.  It determines the storage method, allowed values, and operations for the variable.\n",
        "\n",
        "# **Types of Data Types:-**\n",
        " data types are broadly classified into:\n",
        "\n",
        "1. Primitive Data Types\n",
        "2. Non-Primitive Data Types\n",
        "\n",
        "# **1. Primitive Data Types**\n",
        "Data types which are pre-defined and supported by the programming language.\n",
        "**Examples of Primitive Data Types **\n",
        "integer, float,boolean,string,complex\n",
        "\n",
        "# **2. Non-Primitive Data Types**\n",
        "Non-primitive data types (also called derived or composite data types) are more complex structures that can hold multiple values. These data types are derived from the primitive data types and offer inncreased functionality.\n",
        "\n",
        "**Examples of Non-Primitive Data Types **\n",
        "List,Tuple,Set, Dictionary, Range\n"
      ],
      "metadata": {
        "id": "Jb1_BNcAjxjq"
      }
    },
    {
      "cell_type": "markdown",
      "source": [
        "# **String**\n",
        "String in python are objects and python provides a number of built-in/library functions to modify them.\n",
        "\n",
        "It is a  sequence of characters enclosed within single quotes ('), double quotes (\"), or triple quotes (''' or \"\"\").\n",
        "\n",
        "String are immutable in nature. Once it is created then manipulation not allowed.\n",
        "\n",
        "It Supports indexing and slicing with the help of character's locations which is called index.\n",
        "\n",
        "Any structures indexing starts with 0 for the first character and end at n-1 and -1 for the last character.\n",
        "\n",
        "And python follow forward as well as reverse indexing.\n",
        "\n",
        "**Indexing:-** Take a data from the specific location.\n",
        "\n",
        "**Slicing:-** [start : stop(n-1) : step(n-1)]\n",
        "            Slicing use to cut out specific part with the help of index.\n",
        "\n",
        " \":\" this operator use to slice string. In slicing we pass three parameter. [start : stop : step]\n",
        "\n",
        " If we not pass anything at start then by default it start with 0th index. And if we not pass anything at stop then by default it transerve at the end.         \n",
        "\n",
        "            \n",
        "\n",
        "             "
      ],
      "metadata": {
        "id": "EtSj-iDxyP6U"
      }
    },
    {
      "cell_type": "code",
      "source": [
        "\n",
        "# upper() - Converts all the characters of the string to uppercase.\n",
        "a=\"I'm a Data Scientist\"\n",
        "print(a.upper())\n",
        "\n",
        "# lower()- Converts all characters to lowercase.\n",
        "print(a.lower())\n",
        "\n",
        "# title() - Capitalizes the first letter of each word.\n",
        "print(a.title())\n",
        "\n",
        "# capitalize() - Capitalizes the first letter of the string.\n",
        "print(a.capitalize())\n",
        "\n",
        "# swapcase() - Swaps case of all characters in the string means that lowercase characters got converted to uppercase and vice-versa.\n",
        "print(a.swapcase())\n",
        "\n",
        "# strip() - Removes leading(start) and trailing(end) whitespace characters from the string.\n",
        "print(a.strip())\n",
        "\n",
        "# lstrip() - Removes leading whitespace characters from the string.\n",
        "print(a.lstrip())\n",
        "\n",
        "# rstrip() - Removes trailing whitespace characters from the string.\n",
        "print(a.rstrip())\n",
        "\n",
        "# replace(old,new) - Replaces all the occurrences of substring 'old' with 'new' in the string. If the count is available then only 'count' number of occurances of 'old' will be replaced with the 'new' var. It is used to replace one element to another.\n",
        "print(a.replace(\"a\", \"H\"))\n",
        "\n",
        "# split() - Returns a list of substring obtained after splitting the string. It is used to break the string from specific (user defined) place.\n",
        "print(a.split())\n",
        "\n",
        "# join(iterable) - Joins elements of an iterable with the string as a separator. It is used to join str or char with specific.\n",
        "print(\"*\".join(a))\n",
        "\n",
        "# find(\"str\") - Searches for \"str\" in complete string or in a sub-string. This function returns the index if 'str' is found else returns '-1'.\n",
        "print(a.find(\"a\"))\n",
        "\n",
        "# index(\"str\") - This is same as 'find' method. The only difference is that it raises the 'ValueError' exception if 'str' doesnot exist.\n",
        "print(a.index(a))\n",
        "\n",
        "# startswith('str') - To check if a string starts with a specific substring.\n",
        "print(a.startswith(\"I\"))\n",
        "\n",
        "# endswith('str') - To check if a string ends with a specific substring.\n",
        "print(a.endswith(\"t\"))\n",
        "\n",
        "#  count('str') - Returns the number of occurrences of substring 'str' in the string. Searches for 'str' in the complete string.\n",
        "print(a.count(\"a\"))\n",
        "\n",
        "# center(width[.fillchar]) - Returns string filled with the input char while pushing the original content into the center. Take string in the middle and fill the given char.\n",
        "print(a.center(80,\"%\"))\n",
        "\n",
        "# ljust(width[.fillchar]) - Returns a padded version of string with the original string left-justified to a total of width columns.\n",
        "print(a.ljust(6,\"#\"))\n",
        "\n",
        "# rjust(width[.fillchar]) - Return string filled with input char while pushing the originalcontent on the right side. rjust used to fill values at right side.\n",
        "print(a.rjust(8,\"@\"))\n",
        "\n",
        "# zfill(width) -Returns string filled with the original content padded on the left with zeros so that the total length of string becomes equal to the input size.\n",
        "print(a.zfill(15))\n",
        "\n",
        "# format() - Formats the string using placeholders.\n",
        "# 1. Positional Arguments:- Positional arguments are inserted into placeholders in the order they appear.\n",
        "name = \"Prachi\"\n",
        "age = 25\n",
        "formatted_string = \"My name is {} and I am {} years old.\".format(name, age)\n",
        "print(formatted_string)\n",
        "\n",
        "# 2. Keyword Arguments:- Keyword arguments are inserted into placeholders using their corresponding keyword.\n",
        "name = \"Prachi\"\n",
        "age = 25\n",
        "formatted_string = \"My name is {name} and I am {age} years old.\".format(name=name, age=age)\n",
        "\n",
        "# 3.Mixed Positional and Keyword Arguments:- You can mix positional and keyword arguments, but positional arguments must appear before keyword arguments.\n",
        "formatted_string = \"I am {0} years old and my name is {name}.\".format(40, name=\"Prachi\")\n",
        "print(formatted_string)\n",
        "\n",
        "# 4. Default and Repeated Placeholders:- formatted_string = \"{} {} {}\".format(\"A\", \"B\", \"C\")\n",
        "print(formatted_string)\n",
        "\n",
        "#  isalpha() - Returns 'True' if string contains at least one character (non-empty string) and all the characters are alphabetic. 'False' otherwise only alpha string.\n",
        "print(a.isalpha())\n",
        "\n",
        "# isdigit() - Checks if all characters are digits.\n",
        "print(a.isdigit())\n",
        "\n",
        "# isalnum() - Return 'True' if string contains at least one character(non-empty string) and all the characters are either alphabetic or decimal digits. 'False' otherwise.\n",
        "print(a.isalnum())\n",
        "\n",
        "# isspace() - Return 'True' only and only for empty string otherwise 'False'.\n",
        "print(a.isspace())\n",
        "\n",
        "# islower() - Return 'True' if all the characters in the string are in lowercase. If any of the char is in uppercase, it will return 'False'.\n",
        "print(a.islower())\n",
        "\n",
        "# isupper() - Checks if all characters are uppercase.\n",
        "print(a.isupper())\n",
        "\n",
        "\n",
        "\n",
        "\n"
      ],
      "metadata": {
        "colab": {
          "base_uri": "https://localhost:8080/"
        },
        "id": "JS8LSiGA4b0t",
        "outputId": "52049fa2-abbc-44e8-99b0-dd5a85c1552b"
      },
      "execution_count": 15,
      "outputs": [
        {
          "output_type": "stream",
          "name": "stdout",
          "text": [
            "I'M A DATA SCIENTIST\n",
            "i'm a data scientist\n",
            "I'M A Data Scientist\n",
            "I'm a data scientist\n",
            "i'M A dATA sCIENTIST\n",
            "I'm a Data Scientist\n",
            "I'm a Data Scientist\n",
            "I'm a Data Scientist\n",
            "I'm H DHtH Scientist\n",
            "[\"I'm\", 'a', 'Data', 'Scientist']\n",
            "I*'*m* *a* *D*a*t*a* *S*c*i*e*n*t*i*s*t\n",
            "4\n",
            "0\n",
            "True\n",
            "True\n",
            "3\n",
            "%%%%%%%%%%%%%%%%%%%%%%%%%%%%%%I'm a Data Scientist%%%%%%%%%%%%%%%%%%%%%%%%%%%%%%\n",
            "I'm a Data Scientist\n",
            "I'm a Data Scientist\n",
            "I'm a Data Scientist\n",
            "My name is Prachi and I am 25 years old.\n",
            "I am 40 years old and my name is Prachi.\n",
            "I am 40 years old and my name is Prachi.\n",
            "False\n",
            "False\n",
            "False\n",
            "False\n",
            "False\n",
            "False\n"
          ]
        }
      ]
    },
    {
      "cell_type": "markdown",
      "source": [
        "# **List**\n",
        "\n",
        "\"[ ]\" is a container like an array that holds an ordered sequence of object. The object can be anything from a string to a number or the data of any available type. Lists are one of the most versatile and widely used data structures in Python.\n",
        "\n",
        "- A List can also be both homogeneous as well as heterogeneous. It means we can store only integers or strings or both depending on the need.\n",
        "- List also handles duplicate data in it. List allow redundancy.\n",
        "- List is mutable in nature. We easily add and remove data from the list after its creation.\n",
        "- List also support indexing and slicing either index are positive and negative."
      ],
      "metadata": {
        "id": "MIkTSbDQtTmc"
      }
    },
    {
      "cell_type": "code",
      "source": [
        "# append()- It adds a new element to the end of the list. And one data at a time with no return type. It made changes in actual list.\n",
        "a= [\"I'm a Data Scientist\",1,4.5,7,\"Prachi\", \"Happy\", \"Lucky\", 8.3,\"Data\"]\n",
        "print(a.append(1))\n",
        "\n",
        "# extend() - It extend a list by adding multiple elements from another list. It has no return type. It also made changes in actual list.\n",
        "print(a.extend([5,6]))\n",
        "\n",
        "# insert() - It injects a new elements at the desired index. It accepts data and target index and insert into list one at a time. It also has a no return type.\n",
        "print(a.insert(4,9))\n",
        "\n",
        "# Count() - It returns the total number of elements which user want to count in complete list.\n",
        "print(a.count(a))\n",
        "\n",
        "# Index() - It returns the index of an element that matches first. It accept data and try to match it with elements of lists and return its index if matched.\n",
        "print(a.index(\"Data\"))\n",
        "\n",
        "# pop() - It removes as well as returns an item from the last and if we pass data in pop, then remove only that specific data from its location.\n",
        "print(a.pop(1))\n",
        "\n",
        "# remove() - It deletes the desired element from the list.\n",
        "print(a.remove(\"Data\"))\n",
        "\n",
        "# Clear() - It flushes out all elements of a list. And return empty list.\n",
        "print(a.clear())\n",
        "\n",
        "#  sort() - It orders the elements of a list in an ascending manner.\n",
        "print(a.sort())\n",
        "\n",
        "# sort(reverse=True) - Sorts the list in descending order.\n",
        "print(a.sort(reverse=True))\n",
        "\n",
        "# reverse() - It inverts the order of the elements in a list. And return actual list which contains elements in reverse.\n",
        "print(a.reverse())\n",
        "\n",
        "# copy() - Returns a shallow copy of the list.\n",
        "print(a.copy())\n",
        "\n",
        "# len() -  Returns the number of elements in the list.\n",
        "print(len(a))\n"
      ],
      "metadata": {
        "colab": {
          "base_uri": "https://localhost:8080/"
        },
        "id": "ZXfoV1JdvfSI",
        "outputId": "81f4e714-201e-4d38-9de3-bac4f55b19f2"
      },
      "execution_count": 16,
      "outputs": [
        {
          "output_type": "stream",
          "name": "stdout",
          "text": [
            "None\n",
            "None\n",
            "None\n",
            "0\n",
            "9\n",
            "1\n",
            "None\n",
            "None\n",
            "None\n",
            "None\n",
            "None\n",
            "[]\n",
            "0\n"
          ]
        }
      ]
    },
    {
      "cell_type": "markdown",
      "source": [
        "# **Set**\n",
        "\n",
        "- Set is unordered and unique collection of hetrogeneous element. There is no symbol or notation for the set. If we create empty set then always use set().\n",
        "Sets are denoted using curly braces {}.\n",
        "- It is mutable but only contain immutable sequences inside set.\n",
        "- Sets do not allow duplicate elements. If duplicates are added, they are automatically removed.\n",
        "- Set can't store a mutable item such as list, set, or dictionary.\n",
        "- Set not support indexing and slicing due to its unordered behavior.\n",
        "- Sets are designed for mathematical operations like union, intersection, difference, and symmetric difference.\n"
      ],
      "metadata": {
        "id": "GRyaYoa97Cia"
      }
    },
    {
      "cell_type": "code",
      "source": [
        "# add() - It is used to add one element at a time at any place randomly in a set.\n",
        "a={1,5,6,7,3,5,6,9,5,3}\n",
        "print(a.add(4))\n",
        "\n",
        "# update() - It can be use to add more than one item. It accept tuples, lists, string or other sets as an argumentsand it has no return type.\n",
        "print(a.update([5,6]))\n",
        "\n",
        "# remove() - It is use to delete data from the set and if data is not present then throw keyerror. It also has no return type.\n",
        "print(a.remove(7))\n",
        "\n",
        "# discard() - It is also used to delete from the set and it doesn't throw any error if the target item is not the part of the set.\n",
        "print(a.discard(9))\n",
        "\n",
        "# pop() - It is use to delete data from the set randomly and return data.\n",
        "print(a.pop())\n",
        "\n",
        "# clear() - It is use to removes all elements from the set.\n",
        "print(a.clear())\n",
        "\n",
        "# union() - Union of sets will produce a new set combining all the elements from both the sets. And same elements from both sets appears only once.\n",
        "b={1,6,7,9,3,5,1}\n",
        "print(a.union(b))\n",
        "\n",
        "# intersection() - Intersection of sets will produce a set comparing common elements in both the sets.\n",
        "print(a.intersection(b))\n",
        "\n",
        "# symmetric_difference() - It is of two sets will generate a set of elements that exixt in 'a' and 'b' but not in both.\n",
        "print(a.symmetric_difference(b))\n",
        "\n",
        "# difference() - It is of two sets will generate a set of elements that exixt in 'a' and 'b' but not in both.\n",
        "print(a.difference(b))\n",
        "\n",
        "# isdisjoint() - It checks whether the given set having some common elements or not. Means if intersection of two sets is empty set then sets consider as disjoint. Returns True if two sets have no elements in common.\n",
        "print(a.isdisjoint(b))\n",
        "\n",
        "# issubset() - It checks whether the given set is a subset or not. Returns True if set1 is a subset of set2.\n",
        "print(a.issubset(b))\n",
        "\n",
        "# issuperset() - It checks whether the given set is a superset or not. Returns True if set1 is a superset of set2.\n",
        "print(a.issuperset(b))\n",
        "\n"
      ],
      "metadata": {
        "colab": {
          "base_uri": "https://localhost:8080/"
        },
        "id": "mKMT-q7oSX0e",
        "outputId": "449e1215-41f1-4e21-fe24-b1a3e9adc709"
      },
      "execution_count": 17,
      "outputs": [
        {
          "output_type": "stream",
          "name": "stdout",
          "text": [
            "None\n",
            "None\n",
            "None\n",
            "None\n",
            "1\n",
            "None\n",
            "{1, 3, 5, 6, 7, 9}\n",
            "set()\n",
            "{1, 3, 5, 6, 7, 9}\n",
            "set()\n",
            "True\n",
            "True\n",
            "False\n"
          ]
        }
      ]
    },
    {
      "cell_type": "markdown",
      "source": [
        "# **Frozen Set**\n",
        "A frozen set is an immutable version of a Python set. While a regular set can be modified (e.g., adding or removing elements), a frozen set cannot. This makes frozen sets hashable, which means they can be used as keys in dictionaries or elements in other sets.\n",
        "- It is immutable in nature. Once a frozen set is created, its elements cannot be changed.\n",
        "- It is hashable means Because they are immutable, frozen sets can be used as keys in dictionaries or as elements in other sets.\n",
        "- Just like regular sets, the elements of a frozen set are unordered.\n",
        "- It is unique. Frozen sets do not allow duplicate elements.\n",
        "- Like regular sets, frozen sets do not support indexing or slicing."
      ],
      "metadata": {
        "id": "2t_10VEV-qHH"
      }
    },
    {
      "cell_type": "markdown",
      "source": [
        "# **Dictionary**\n",
        "A dictionary in Python is a collection of key-value pairs, where each key is unique, and it maps to a specific value.\n",
        "- Dictionaries are mutable, meaning their contents can be modified after creation.\n",
        "- Keys must be unique. If you add a duplicate key, it overwrites the previous value.\n",
        "- Values can be of any type, including lists, other dictionaries, or even functions.\n",
        "- Keys Must Be Immutable(Keys can be of types like strings, numbers, or tuples (but not lists or sets).\n",
        "- We can perform indexing in dictionary with thye help of keys.\n",
        "- In dictionary, pair of keys and values are seperated with the help of \",\" and keys and value itself separated with (:).\n",
        "- **Keys()** - It return list of all keys from the dictionary.\n",
        "- **Values()** - It return list of all values from the dictionary."
      ],
      "metadata": {
        "id": "YQrXWNu4_6ic"
      }
    },
    {
      "cell_type": "code",
      "source": [
        "# items() - It return list of all keys and values from the dictionary in the form of tuple inside the list.\n",
        "a={\"name\":\"Prachi\",\"age\":25,\"gender\":\"Female\", \"profession\": \"Data Scientist\"}\n",
        "b={\"hobby\", \"Not specified\"}\n",
        "print(a.items())\n",
        "\n",
        "# get() - It return values from the dictionary when we pass keys inside this function.\n",
        "print(a.get(\"hobby\", \"Not specified\"))\n",
        "\n",
        "# add() - Adding a new key-value pair\n",
        "a[\"hobby\"]=\"Photography\"\n",
        "\n",
        "# pop() - It is use to remove data from the dictionary permanently on the basis of key. We pass key in it and it will return its value.\n",
        "print(a.pop(\"hobby\"))\n",
        "\n",
        "# popitem() - It is same as pop(). but it return both key as well as its value and return type is tuple.\n",
        "c=a.popitem()\n",
        "print(c)\n",
        "\n",
        "# In both pop() and popitem() we pass a key which is not present inside dictionary then it throw keyerror.\n"
      ],
      "metadata": {
        "colab": {
          "base_uri": "https://localhost:8080/"
        },
        "id": "Zd1DA5KBD2Zc",
        "outputId": "a606ff4d-df15-4f03-8173-fadf21d9da2e"
      },
      "execution_count": 18,
      "outputs": [
        {
          "output_type": "stream",
          "name": "stdout",
          "text": [
            "dict_items([('name', 'Prachi'), ('age', 25), ('gender', 'Female'), ('profession', 'Data Scientist')])\n",
            "Not specified\n",
            "Photography\n",
            "('profession', 'Data Scientist')\n"
          ]
        }
      ]
    }
  ]
}